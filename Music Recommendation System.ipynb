{
 "cells": [
  {
   "cell_type": "markdown",
   "metadata": {},
   "source": [
    "# <center> *Music Recommendation  System*"
   ]
  },
  {
   "cell_type": "markdown",
   "metadata": {},
   "source": [
    "### What is Recommendation system and how it is used for recommending the particular song to user"
   ]
  },
  {
   "cell_type": "markdown",
   "metadata": {},
   "source": [
    "A recommender system, or a recommendation system is a subclass of information filtering system that seeks to predict the \"rating\" or \"preference\" a user would give to an item.\n",
    "\n",
    "Recommender systems are used in a variety of areas, with commonly recognised examples taking the form of playlist generators for video and music services, product recommenders for online stores, or content recommenders for social media platforms and open web content recommenders.\n",
    "These systems can operate using a single input, like music, or multiple inputs within and across platforms like news, books, and search queries.\n",
    "\n",
    "By using music recommender system, the music provider can predict and then offer the appropriate songs to their users based on the characteristics of the music that has been heard previously. \n",
    "\n",
    "Our research would like to develop a music recommender system that can give recommendations based on similarity of features on audio files."
   ]
  },
  {
   "cell_type": "markdown",
   "metadata": {},
   "source": [
    "#### Let us check the Information about the data"
   ]
  },
  {
   "cell_type": "markdown",
   "metadata": {},
   "source": [
    "The Dataset that we are going to deal for this project is :\n",
    "- kaggle_visible_evaluation_triplets - It contains User_Id of the listener,Song_Id of the song and frequency that is how many times the song has been played.\n",
    "\n",
    "- Unique_tracks - It contains information about Track_id , Song_id, Artist_name and Release of the song."
   ]
  },
  {
   "cell_type": "markdown",
   "metadata": {},
   "source": [
    "#### Importing the necessary libraries for analysing the data"
   ]
  },
  {
   "cell_type": "code",
   "execution_count": 59,
   "metadata": {},
   "outputs": [],
   "source": [
    "import pandas as pd\n",
    "import numpy as np\n",
    "import matplotlib.pyplot as plt\n",
    "import seaborn as sns\n",
    "import sklearn\n",
    "import os\n",
    "import random\n",
    "from datetime import datetime\n",
    "import warnings\n",
    "warnings.filterwarnings(\"ignore\")"
   ]
  },
  {
   "cell_type": "markdown",
   "metadata": {},
   "source": [
    "#### Reading the kaggle_triplets dataset "
   ]
  },
  {
   "cell_type": "code",
   "execution_count": 60,
   "metadata": {},
   "outputs": [],
   "source": [
    "song_df = pd.read_table('kaggle_visible_evaluation_triplets.txt',sep=\"\\t\",names=[\"user_id\",\"song_id\",\"Freq\"])"
   ]
  },
  {
   "cell_type": "markdown",
   "metadata": {},
   "source": [
    "#### Checking the head section of the dataset"
   ]
  },
  {
   "cell_type": "code",
   "execution_count": 61,
   "metadata": {},
   "outputs": [
    {
     "data": {
      "text/html": [
       "<div>\n",
       "<style scoped>\n",
       "    .dataframe tbody tr th:only-of-type {\n",
       "        vertical-align: middle;\n",
       "    }\n",
       "\n",
       "    .dataframe tbody tr th {\n",
       "        vertical-align: top;\n",
       "    }\n",
       "\n",
       "    .dataframe thead th {\n",
       "        text-align: right;\n",
       "    }\n",
       "</style>\n",
       "<table border=\"1\" class=\"dataframe\">\n",
       "  <thead>\n",
       "    <tr style=\"text-align: right;\">\n",
       "      <th></th>\n",
       "      <th>user_id</th>\n",
       "      <th>song_id</th>\n",
       "      <th>Freq</th>\n",
       "    </tr>\n",
       "  </thead>\n",
       "  <tbody>\n",
       "    <tr>\n",
       "      <th>0</th>\n",
       "      <td>fd50c4007b68a3737fe052d5a4f78ce8aa117f3d</td>\n",
       "      <td>SOBONKR12A58A7A7E0</td>\n",
       "      <td>1</td>\n",
       "    </tr>\n",
       "    <tr>\n",
       "      <th>1</th>\n",
       "      <td>fd50c4007b68a3737fe052d5a4f78ce8aa117f3d</td>\n",
       "      <td>SOEGIYH12A6D4FC0E3</td>\n",
       "      <td>1</td>\n",
       "    </tr>\n",
       "    <tr>\n",
       "      <th>2</th>\n",
       "      <td>fd50c4007b68a3737fe052d5a4f78ce8aa117f3d</td>\n",
       "      <td>SOFLJQZ12A6D4FADA6</td>\n",
       "      <td>1</td>\n",
       "    </tr>\n",
       "    <tr>\n",
       "      <th>3</th>\n",
       "      <td>fd50c4007b68a3737fe052d5a4f78ce8aa117f3d</td>\n",
       "      <td>SOHTKMO12AB01843B0</td>\n",
       "      <td>1</td>\n",
       "    </tr>\n",
       "    <tr>\n",
       "      <th>4</th>\n",
       "      <td>fd50c4007b68a3737fe052d5a4f78ce8aa117f3d</td>\n",
       "      <td>SODQZCY12A6D4F9D11</td>\n",
       "      <td>1</td>\n",
       "    </tr>\n",
       "  </tbody>\n",
       "</table>\n",
       "</div>"
      ],
      "text/plain": [
       "                                    user_id             song_id  Freq\n",
       "0  fd50c4007b68a3737fe052d5a4f78ce8aa117f3d  SOBONKR12A58A7A7E0     1\n",
       "1  fd50c4007b68a3737fe052d5a4f78ce8aa117f3d  SOEGIYH12A6D4FC0E3     1\n",
       "2  fd50c4007b68a3737fe052d5a4f78ce8aa117f3d  SOFLJQZ12A6D4FADA6     1\n",
       "3  fd50c4007b68a3737fe052d5a4f78ce8aa117f3d  SOHTKMO12AB01843B0     1\n",
       "4  fd50c4007b68a3737fe052d5a4f78ce8aa117f3d  SODQZCY12A6D4F9D11     1"
      ]
     },
     "execution_count": 61,
     "metadata": {},
     "output_type": "execute_result"
    }
   ],
   "source": [
    "song_df.head()"
   ]
  },
  {
   "cell_type": "code",
   "execution_count": 62,
   "metadata": {},
   "outputs": [
    {
     "data": {
      "text/html": [
       "<div>\n",
       "<style scoped>\n",
       "    .dataframe tbody tr th:only-of-type {\n",
       "        vertical-align: middle;\n",
       "    }\n",
       "\n",
       "    .dataframe tbody tr th {\n",
       "        vertical-align: top;\n",
       "    }\n",
       "\n",
       "    .dataframe thead th {\n",
       "        text-align: right;\n",
       "    }\n",
       "</style>\n",
       "<table border=\"1\" class=\"dataframe\">\n",
       "  <thead>\n",
       "    <tr style=\"text-align: right;\">\n",
       "      <th></th>\n",
       "      <th>user_id</th>\n",
       "      <th>song_id</th>\n",
       "      <th>Freq</th>\n",
       "    </tr>\n",
       "  </thead>\n",
       "  <tbody>\n",
       "    <tr>\n",
       "      <th>1450928</th>\n",
       "      <td>5e650759ebf89012044c6d52121eeada8b0ec814</td>\n",
       "      <td>SOVLNXV12A6D4F706E</td>\n",
       "      <td>1</td>\n",
       "    </tr>\n",
       "    <tr>\n",
       "      <th>1450929</th>\n",
       "      <td>5e650759ebf89012044c6d52121eeada8b0ec814</td>\n",
       "      <td>SOVDSJC12A58A7A271</td>\n",
       "      <td>2</td>\n",
       "    </tr>\n",
       "    <tr>\n",
       "      <th>1450930</th>\n",
       "      <td>5e650759ebf89012044c6d52121eeada8b0ec814</td>\n",
       "      <td>SOBRHVR12A8C133F35</td>\n",
       "      <td>2</td>\n",
       "    </tr>\n",
       "    <tr>\n",
       "      <th>1450931</th>\n",
       "      <td>5e650759ebf89012044c6d52121eeada8b0ec814</td>\n",
       "      <td>SOMGVYU12A8C1314FF</td>\n",
       "      <td>2</td>\n",
       "    </tr>\n",
       "    <tr>\n",
       "      <th>1450932</th>\n",
       "      <td>5e650759ebf89012044c6d52121eeada8b0ec814</td>\n",
       "      <td>SOTCMDJ12A6D4F8528</td>\n",
       "      <td>3</td>\n",
       "    </tr>\n",
       "  </tbody>\n",
       "</table>\n",
       "</div>"
      ],
      "text/plain": [
       "                                          user_id             song_id  Freq\n",
       "1450928  5e650759ebf89012044c6d52121eeada8b0ec814  SOVLNXV12A6D4F706E     1\n",
       "1450929  5e650759ebf89012044c6d52121eeada8b0ec814  SOVDSJC12A58A7A271     2\n",
       "1450930  5e650759ebf89012044c6d52121eeada8b0ec814  SOBRHVR12A8C133F35     2\n",
       "1450931  5e650759ebf89012044c6d52121eeada8b0ec814  SOMGVYU12A8C1314FF     2\n",
       "1450932  5e650759ebf89012044c6d52121eeada8b0ec814  SOTCMDJ12A6D4F8528     3"
      ]
     },
     "execution_count": 62,
     "metadata": {},
     "output_type": "execute_result"
    }
   ],
   "source": [
    "### Checking the tail part of the data\n",
    "\n",
    "song_df.tail()"
   ]
  },
  {
   "cell_type": "markdown",
   "metadata": {},
   "source": [
    "#### Checking the information about the kaggle_triplets data"
   ]
  },
  {
   "cell_type": "code",
   "execution_count": 63,
   "metadata": {},
   "outputs": [
    {
     "name": "stdout",
     "output_type": "stream",
     "text": [
      "<class 'pandas.core.frame.DataFrame'>\n",
      "RangeIndex: 1450933 entries, 0 to 1450932\n",
      "Data columns (total 3 columns):\n",
      " #   Column   Non-Null Count    Dtype \n",
      "---  ------   --------------    ----- \n",
      " 0   user_id  1450933 non-null  object\n",
      " 1   song_id  1450933 non-null  object\n",
      " 2   Freq     1450933 non-null  int64 \n",
      "dtypes: int64(1), object(2)\n",
      "memory usage: 33.2+ MB\n"
     ]
    }
   ],
   "source": [
    "## Checking the for the columns in the dataset\n",
    "\n",
    "song_df.columns\n",
    "song_df.info()"
   ]
  },
  {
   "cell_type": "markdown",
   "metadata": {},
   "source": [
    "#### Reading the unique_tracks dataset to merge the two given datasets "
   ]
  },
  {
   "cell_type": "code",
   "execution_count": 64,
   "metadata": {},
   "outputs": [],
   "source": [
    "song_df2 = pd.read_table('unique_tracks.txt',sep='<SEP>',names=[\"Track_id\",\"song_id\",\"Artist_name\",\"song_name\"])"
   ]
  },
  {
   "cell_type": "code",
   "execution_count": 65,
   "metadata": {},
   "outputs": [
    {
     "data": {
      "text/html": [
       "<div>\n",
       "<style scoped>\n",
       "    .dataframe tbody tr th:only-of-type {\n",
       "        vertical-align: middle;\n",
       "    }\n",
       "\n",
       "    .dataframe tbody tr th {\n",
       "        vertical-align: top;\n",
       "    }\n",
       "\n",
       "    .dataframe thead th {\n",
       "        text-align: right;\n",
       "    }\n",
       "</style>\n",
       "<table border=\"1\" class=\"dataframe\">\n",
       "  <thead>\n",
       "    <tr style=\"text-align: right;\">\n",
       "      <th></th>\n",
       "      <th>Track_id</th>\n",
       "      <th>song_id</th>\n",
       "      <th>Artist_name</th>\n",
       "      <th>song_name</th>\n",
       "    </tr>\n",
       "  </thead>\n",
       "  <tbody>\n",
       "    <tr>\n",
       "      <th>0</th>\n",
       "      <td>TRMMMYQ128F932D901</td>\n",
       "      <td>SOQMMHC12AB0180CB8</td>\n",
       "      <td>Faster Pussy cat</td>\n",
       "      <td>Silent Night</td>\n",
       "    </tr>\n",
       "    <tr>\n",
       "      <th>1</th>\n",
       "      <td>TRMMMKD128F425225D</td>\n",
       "      <td>SOVFVAK12A8C1350D9</td>\n",
       "      <td>Karkkiautomaatti</td>\n",
       "      <td>Tanssi vaan</td>\n",
       "    </tr>\n",
       "    <tr>\n",
       "      <th>2</th>\n",
       "      <td>TRMMMRX128F93187D9</td>\n",
       "      <td>SOGTUKN12AB017F4F1</td>\n",
       "      <td>Hudson Mohawke</td>\n",
       "      <td>No One Could Ever</td>\n",
       "    </tr>\n",
       "    <tr>\n",
       "      <th>3</th>\n",
       "      <td>TRMMMCH128F425532C</td>\n",
       "      <td>SOBNYVR12A8C13558C</td>\n",
       "      <td>Yerba Brava</td>\n",
       "      <td>Si Vos Querés</td>\n",
       "    </tr>\n",
       "    <tr>\n",
       "      <th>4</th>\n",
       "      <td>TRMMMWA128F426B589</td>\n",
       "      <td>SOHSBXH12A8C13B0DF</td>\n",
       "      <td>Der Mystic</td>\n",
       "      <td>Tangle Of Aspens</td>\n",
       "    </tr>\n",
       "  </tbody>\n",
       "</table>\n",
       "</div>"
      ],
      "text/plain": [
       "             Track_id             song_id       Artist_name          song_name\n",
       "0  TRMMMYQ128F932D901  SOQMMHC12AB0180CB8  Faster Pussy cat       Silent Night\n",
       "1  TRMMMKD128F425225D  SOVFVAK12A8C1350D9  Karkkiautomaatti        Tanssi vaan\n",
       "2  TRMMMRX128F93187D9  SOGTUKN12AB017F4F1    Hudson Mohawke  No One Could Ever\n",
       "3  TRMMMCH128F425532C  SOBNYVR12A8C13558C       Yerba Brava      Si Vos Querés\n",
       "4  TRMMMWA128F426B589  SOHSBXH12A8C13B0DF        Der Mystic   Tangle Of Aspens"
      ]
     },
     "execution_count": 65,
     "metadata": {},
     "output_type": "execute_result"
    }
   ],
   "source": [
    "song_df2.head()"
   ]
  },
  {
   "cell_type": "code",
   "execution_count": 66,
   "metadata": {},
   "outputs": [
    {
     "data": {
      "text/html": [
       "<div>\n",
       "<style scoped>\n",
       "    .dataframe tbody tr th:only-of-type {\n",
       "        vertical-align: middle;\n",
       "    }\n",
       "\n",
       "    .dataframe tbody tr th {\n",
       "        vertical-align: top;\n",
       "    }\n",
       "\n",
       "    .dataframe thead th {\n",
       "        text-align: right;\n",
       "    }\n",
       "</style>\n",
       "<table border=\"1\" class=\"dataframe\">\n",
       "  <thead>\n",
       "    <tr style=\"text-align: right;\">\n",
       "      <th></th>\n",
       "      <th>Track_id</th>\n",
       "      <th>song_id</th>\n",
       "      <th>Artist_name</th>\n",
       "      <th>song_name</th>\n",
       "    </tr>\n",
       "  </thead>\n",
       "  <tbody>\n",
       "    <tr>\n",
       "      <th>999995</th>\n",
       "      <td>TRYYYUS12903CD2DF0</td>\n",
       "      <td>SOTXAME12AB018F136</td>\n",
       "      <td>Kiko Navarro</td>\n",
       "      <td>O Samba Da Vida</td>\n",
       "    </tr>\n",
       "    <tr>\n",
       "      <th>999996</th>\n",
       "      <td>TRYYYJO128F426DA37</td>\n",
       "      <td>SOXQYIQ12A8C137FBB</td>\n",
       "      <td>Kuldeep Manak</td>\n",
       "      <td>Jago Chhadeo</td>\n",
       "    </tr>\n",
       "    <tr>\n",
       "      <th>999997</th>\n",
       "      <td>TRYYYMG128F4260ECA</td>\n",
       "      <td>SOHODZI12A8C137BB3</td>\n",
       "      <td>Gabriel Le Mar</td>\n",
       "      <td>Novemba</td>\n",
       "    </tr>\n",
       "    <tr>\n",
       "      <th>999998</th>\n",
       "      <td>TRYYYDJ128F9310A21</td>\n",
       "      <td>SOLXGOR12A81C21EB7</td>\n",
       "      <td>Elude</td>\n",
       "      <td>Faraday</td>\n",
       "    </tr>\n",
       "    <tr>\n",
       "      <th>999999</th>\n",
       "      <td>TRYYYVU12903CD01E3</td>\n",
       "      <td>SOWXJXQ12AB0189F43</td>\n",
       "      <td>Texta</td>\n",
       "      <td>Fernweh feat. Sektion Kuchikäschtli</td>\n",
       "    </tr>\n",
       "  </tbody>\n",
       "</table>\n",
       "</div>"
      ],
      "text/plain": [
       "                  Track_id             song_id     Artist_name  \\\n",
       "999995  TRYYYUS12903CD2DF0  SOTXAME12AB018F136    Kiko Navarro   \n",
       "999996  TRYYYJO128F426DA37  SOXQYIQ12A8C137FBB   Kuldeep Manak   \n",
       "999997  TRYYYMG128F4260ECA  SOHODZI12A8C137BB3  Gabriel Le Mar   \n",
       "999998  TRYYYDJ128F9310A21  SOLXGOR12A81C21EB7           Elude   \n",
       "999999  TRYYYVU12903CD01E3  SOWXJXQ12AB0189F43           Texta   \n",
       "\n",
       "                                  song_name  \n",
       "999995                      O Samba Da Vida  \n",
       "999996                         Jago Chhadeo  \n",
       "999997                              Novemba  \n",
       "999998                              Faraday  \n",
       "999999  Fernweh feat. Sektion Kuchikäschtli  "
      ]
     },
     "execution_count": 66,
     "metadata": {},
     "output_type": "execute_result"
    }
   ],
   "source": [
    "song_df2.tail()"
   ]
  },
  {
   "cell_type": "markdown",
   "metadata": {},
   "source": [
    "#### Drop the Track_id column as it is not much useful we know song or track have the similar features  so better drop those column"
   ]
  },
  {
   "cell_type": "code",
   "execution_count": 67,
   "metadata": {},
   "outputs": [],
   "source": [
    "df2=song_df2.drop('Track_id',axis=1)"
   ]
  },
  {
   "cell_type": "code",
   "execution_count": 68,
   "metadata": {},
   "outputs": [
    {
     "data": {
      "text/html": [
       "<div>\n",
       "<style scoped>\n",
       "    .dataframe tbody tr th:only-of-type {\n",
       "        vertical-align: middle;\n",
       "    }\n",
       "\n",
       "    .dataframe tbody tr th {\n",
       "        vertical-align: top;\n",
       "    }\n",
       "\n",
       "    .dataframe thead th {\n",
       "        text-align: right;\n",
       "    }\n",
       "</style>\n",
       "<table border=\"1\" class=\"dataframe\">\n",
       "  <thead>\n",
       "    <tr style=\"text-align: right;\">\n",
       "      <th></th>\n",
       "      <th>song_id</th>\n",
       "      <th>Artist_name</th>\n",
       "      <th>song_name</th>\n",
       "    </tr>\n",
       "  </thead>\n",
       "  <tbody>\n",
       "    <tr>\n",
       "      <th>0</th>\n",
       "      <td>SOQMMHC12AB0180CB8</td>\n",
       "      <td>Faster Pussy cat</td>\n",
       "      <td>Silent Night</td>\n",
       "    </tr>\n",
       "    <tr>\n",
       "      <th>1</th>\n",
       "      <td>SOVFVAK12A8C1350D9</td>\n",
       "      <td>Karkkiautomaatti</td>\n",
       "      <td>Tanssi vaan</td>\n",
       "    </tr>\n",
       "    <tr>\n",
       "      <th>2</th>\n",
       "      <td>SOGTUKN12AB017F4F1</td>\n",
       "      <td>Hudson Mohawke</td>\n",
       "      <td>No One Could Ever</td>\n",
       "    </tr>\n",
       "    <tr>\n",
       "      <th>3</th>\n",
       "      <td>SOBNYVR12A8C13558C</td>\n",
       "      <td>Yerba Brava</td>\n",
       "      <td>Si Vos Querés</td>\n",
       "    </tr>\n",
       "    <tr>\n",
       "      <th>4</th>\n",
       "      <td>SOHSBXH12A8C13B0DF</td>\n",
       "      <td>Der Mystic</td>\n",
       "      <td>Tangle Of Aspens</td>\n",
       "    </tr>\n",
       "  </tbody>\n",
       "</table>\n",
       "</div>"
      ],
      "text/plain": [
       "              song_id       Artist_name          song_name\n",
       "0  SOQMMHC12AB0180CB8  Faster Pussy cat       Silent Night\n",
       "1  SOVFVAK12A8C1350D9  Karkkiautomaatti        Tanssi vaan\n",
       "2  SOGTUKN12AB017F4F1    Hudson Mohawke  No One Could Ever\n",
       "3  SOBNYVR12A8C13558C       Yerba Brava      Si Vos Querés\n",
       "4  SOHSBXH12A8C13B0DF        Der Mystic   Tangle Of Aspens"
      ]
     },
     "execution_count": 68,
     "metadata": {},
     "output_type": "execute_result"
    }
   ],
   "source": [
    "df2.head()"
   ]
  },
  {
   "cell_type": "markdown",
   "metadata": {},
   "source": [
    "#### Checking for the information about the data"
   ]
  },
  {
   "cell_type": "code",
   "execution_count": 69,
   "metadata": {},
   "outputs": [
    {
     "name": "stdout",
     "output_type": "stream",
     "text": [
      "<class 'pandas.core.frame.DataFrame'>\n",
      "RangeIndex: 1000000 entries, 0 to 999999\n",
      "Data columns (total 3 columns):\n",
      " #   Column       Non-Null Count    Dtype \n",
      "---  ------       --------------    ----- \n",
      " 0   song_id      1000000 non-null  object\n",
      " 1   Artist_name  1000000 non-null  object\n",
      " 2   song_name    999985 non-null   object\n",
      "dtypes: object(3)\n",
      "memory usage: 22.9+ MB\n"
     ]
    }
   ],
   "source": [
    "df2.info()"
   ]
  },
  {
   "cell_type": "markdown",
   "metadata": {},
   "source": [
    "#### Let us merge the two datasets together to perform some analysis on the given merged data\n",
    "\n",
    "As we are merging the two datasets and we have a chance to encounter duplicates as we have same columns in two datasets called song_id so better drop those duplicates before merging the data"
   ]
  },
  {
   "cell_type": "code",
   "execution_count": 70,
   "metadata": {},
   "outputs": [],
   "source": [
    "df = pd.merge(song_df,df2.drop_duplicates(['song_id']),on='song_id',how='left')"
   ]
  },
  {
   "cell_type": "markdown",
   "metadata": {},
   "source": [
    "#### Checking the head of the dataset after merging "
   ]
  },
  {
   "cell_type": "code",
   "execution_count": 71,
   "metadata": {},
   "outputs": [
    {
     "data": {
      "text/html": [
       "<div>\n",
       "<style scoped>\n",
       "    .dataframe tbody tr th:only-of-type {\n",
       "        vertical-align: middle;\n",
       "    }\n",
       "\n",
       "    .dataframe tbody tr th {\n",
       "        vertical-align: top;\n",
       "    }\n",
       "\n",
       "    .dataframe thead th {\n",
       "        text-align: right;\n",
       "    }\n",
       "</style>\n",
       "<table border=\"1\" class=\"dataframe\">\n",
       "  <thead>\n",
       "    <tr style=\"text-align: right;\">\n",
       "      <th></th>\n",
       "      <th>user_id</th>\n",
       "      <th>song_id</th>\n",
       "      <th>Freq</th>\n",
       "      <th>Artist_name</th>\n",
       "      <th>song_name</th>\n",
       "    </tr>\n",
       "  </thead>\n",
       "  <tbody>\n",
       "    <tr>\n",
       "      <th>0</th>\n",
       "      <td>fd50c4007b68a3737fe052d5a4f78ce8aa117f3d</td>\n",
       "      <td>SOBONKR12A58A7A7E0</td>\n",
       "      <td>1</td>\n",
       "      <td>Dwight Yoakam</td>\n",
       "      <td>You're The One</td>\n",
       "    </tr>\n",
       "    <tr>\n",
       "      <th>1</th>\n",
       "      <td>fd50c4007b68a3737fe052d5a4f78ce8aa117f3d</td>\n",
       "      <td>SOEGIYH12A6D4FC0E3</td>\n",
       "      <td>1</td>\n",
       "      <td>Barry Tuckwell/Academy of St Martin-in-the-Fie...</td>\n",
       "      <td>Horn Concerto No. 4 in E flat K495: II. Romanc...</td>\n",
       "    </tr>\n",
       "    <tr>\n",
       "      <th>2</th>\n",
       "      <td>fd50c4007b68a3737fe052d5a4f78ce8aa117f3d</td>\n",
       "      <td>SOFLJQZ12A6D4FADA6</td>\n",
       "      <td>1</td>\n",
       "      <td>Cartola</td>\n",
       "      <td>Tive Sim</td>\n",
       "    </tr>\n",
       "    <tr>\n",
       "      <th>3</th>\n",
       "      <td>fd50c4007b68a3737fe052d5a4f78ce8aa117f3d</td>\n",
       "      <td>SOHTKMO12AB01843B0</td>\n",
       "      <td>1</td>\n",
       "      <td>Lonnie Gordon</td>\n",
       "      <td>Catch You Baby (Steve Pitron &amp; Max Sanna Radio...</td>\n",
       "    </tr>\n",
       "    <tr>\n",
       "      <th>4</th>\n",
       "      <td>fd50c4007b68a3737fe052d5a4f78ce8aa117f3d</td>\n",
       "      <td>SODQZCY12A6D4F9D11</td>\n",
       "      <td>1</td>\n",
       "      <td>Miguel Calo</td>\n",
       "      <td>El Cuatrero</td>\n",
       "    </tr>\n",
       "  </tbody>\n",
       "</table>\n",
       "</div>"
      ],
      "text/plain": [
       "                                    user_id             song_id  Freq  \\\n",
       "0  fd50c4007b68a3737fe052d5a4f78ce8aa117f3d  SOBONKR12A58A7A7E0     1   \n",
       "1  fd50c4007b68a3737fe052d5a4f78ce8aa117f3d  SOEGIYH12A6D4FC0E3     1   \n",
       "2  fd50c4007b68a3737fe052d5a4f78ce8aa117f3d  SOFLJQZ12A6D4FADA6     1   \n",
       "3  fd50c4007b68a3737fe052d5a4f78ce8aa117f3d  SOHTKMO12AB01843B0     1   \n",
       "4  fd50c4007b68a3737fe052d5a4f78ce8aa117f3d  SODQZCY12A6D4F9D11     1   \n",
       "\n",
       "                                         Artist_name  \\\n",
       "0                                      Dwight Yoakam   \n",
       "1  Barry Tuckwell/Academy of St Martin-in-the-Fie...   \n",
       "2                                            Cartola   \n",
       "3                                      Lonnie Gordon   \n",
       "4                                        Miguel Calo   \n",
       "\n",
       "                                           song_name  \n",
       "0                                     You're The One  \n",
       "1  Horn Concerto No. 4 in E flat K495: II. Romanc...  \n",
       "2                                           Tive Sim  \n",
       "3  Catch You Baby (Steve Pitron & Max Sanna Radio...  \n",
       "4                                        El Cuatrero  "
      ]
     },
     "execution_count": 71,
     "metadata": {},
     "output_type": "execute_result"
    }
   ],
   "source": [
    "df.head()"
   ]
  },
  {
   "cell_type": "code",
   "execution_count": 72,
   "metadata": {},
   "outputs": [
    {
     "name": "stdout",
     "output_type": "stream",
     "text": [
      "the shape of merged data is : (1450933, 5)\n",
      "Checking for the column names: Index(['user_id', 'song_id', 'Freq', 'Artist_name', 'song_name'], dtype='object')\n",
      "Checking the length of the data : 1450933\n",
      "<class 'pandas.core.frame.DataFrame'>\n",
      "Int64Index: 1450933 entries, 0 to 1450932\n",
      "Data columns (total 5 columns):\n",
      " #   Column       Non-Null Count    Dtype \n",
      "---  ------       --------------    ----- \n",
      " 0   user_id      1450933 non-null  object\n",
      " 1   song_id      1450933 non-null  object\n",
      " 2   Freq         1450933 non-null  int64 \n",
      " 3   Artist_name  1450933 non-null  object\n",
      " 4   song_name    1450932 non-null  object\n",
      "dtypes: int64(1), object(4)\n",
      "memory usage: 66.4+ MB\n",
      "finding the Information about the data : None\n"
     ]
    }
   ],
   "source": [
    "## Checking the shape of the data,columns,info,and data types \n",
    "print(\"the shape of merged data is :\",df.shape)\n",
    "print(\"Checking for the column names:\",df.columns)\n",
    "print(\"Checking the length of the data :\",len(df))\n",
    "print(\"finding the Information about the data :\",df.info())"
   ]
  },
  {
   "cell_type": "markdown",
   "metadata": {},
   "source": [
    "#### Let us check wheather our dataset is clean or not to proceed for Analysis part"
   ]
  },
  {
   "cell_type": "code",
   "execution_count": 73,
   "metadata": {},
   "outputs": [
    {
     "data": {
      "text/plain": [
       "user_id        0\n",
       "song_id        0\n",
       "Freq           0\n",
       "Artist_name    0\n",
       "song_name      1\n",
       "dtype: int64"
      ]
     },
     "execution_count": 73,
     "metadata": {},
     "output_type": "execute_result"
    }
   ],
   "source": [
    "## Checking for the null values\n",
    "\n",
    "df.isnull().sum()"
   ]
  },
  {
   "cell_type": "code",
   "execution_count": 74,
   "metadata": {},
   "outputs": [
    {
     "data": {
      "text/plain": [
       "1"
      ]
     },
     "execution_count": 74,
     "metadata": {},
     "output_type": "execute_result"
    }
   ],
   "source": [
    "df['song_name'].isnull().sum()"
   ]
  },
  {
   "cell_type": "code",
   "execution_count": 75,
   "metadata": {},
   "outputs": [],
   "source": [
    "df=df.dropna().reset_index()"
   ]
  },
  {
   "cell_type": "code",
   "execution_count": 76,
   "metadata": {},
   "outputs": [
    {
     "data": {
      "text/plain": [
       "index          0\n",
       "user_id        0\n",
       "song_id        0\n",
       "Freq           0\n",
       "Artist_name    0\n",
       "song_name      0\n",
       "dtype: int64"
      ]
     },
     "execution_count": 76,
     "metadata": {},
     "output_type": "execute_result"
    }
   ],
   "source": [
    "df.isnull().sum()"
   ]
  },
  {
   "cell_type": "code",
   "execution_count": 77,
   "metadata": {},
   "outputs": [],
   "source": [
    "# creating new feature combining title and artist name\n",
    "\n",
    "# df['song'] = df['song_name']+' - '+df['Artist_name']"
   ]
  },
  {
   "cell_type": "code",
   "execution_count": 78,
   "metadata": {},
   "outputs": [
    {
     "data": {
      "text/html": [
       "<div>\n",
       "<style scoped>\n",
       "    .dataframe tbody tr th:only-of-type {\n",
       "        vertical-align: middle;\n",
       "    }\n",
       "\n",
       "    .dataframe tbody tr th {\n",
       "        vertical-align: top;\n",
       "    }\n",
       "\n",
       "    .dataframe thead th {\n",
       "        text-align: right;\n",
       "    }\n",
       "</style>\n",
       "<table border=\"1\" class=\"dataframe\">\n",
       "  <thead>\n",
       "    <tr style=\"text-align: right;\">\n",
       "      <th></th>\n",
       "      <th>index</th>\n",
       "      <th>user_id</th>\n",
       "      <th>song_id</th>\n",
       "      <th>Freq</th>\n",
       "      <th>Artist_name</th>\n",
       "      <th>song_name</th>\n",
       "    </tr>\n",
       "  </thead>\n",
       "  <tbody>\n",
       "    <tr>\n",
       "      <th>0</th>\n",
       "      <td>0</td>\n",
       "      <td>fd50c4007b68a3737fe052d5a4f78ce8aa117f3d</td>\n",
       "      <td>SOBONKR12A58A7A7E0</td>\n",
       "      <td>1</td>\n",
       "      <td>Dwight Yoakam</td>\n",
       "      <td>You're The One</td>\n",
       "    </tr>\n",
       "    <tr>\n",
       "      <th>1</th>\n",
       "      <td>1</td>\n",
       "      <td>fd50c4007b68a3737fe052d5a4f78ce8aa117f3d</td>\n",
       "      <td>SOEGIYH12A6D4FC0E3</td>\n",
       "      <td>1</td>\n",
       "      <td>Barry Tuckwell/Academy of St Martin-in-the-Fie...</td>\n",
       "      <td>Horn Concerto No. 4 in E flat K495: II. Romanc...</td>\n",
       "    </tr>\n",
       "    <tr>\n",
       "      <th>2</th>\n",
       "      <td>2</td>\n",
       "      <td>fd50c4007b68a3737fe052d5a4f78ce8aa117f3d</td>\n",
       "      <td>SOFLJQZ12A6D4FADA6</td>\n",
       "      <td>1</td>\n",
       "      <td>Cartola</td>\n",
       "      <td>Tive Sim</td>\n",
       "    </tr>\n",
       "    <tr>\n",
       "      <th>3</th>\n",
       "      <td>3</td>\n",
       "      <td>fd50c4007b68a3737fe052d5a4f78ce8aa117f3d</td>\n",
       "      <td>SOHTKMO12AB01843B0</td>\n",
       "      <td>1</td>\n",
       "      <td>Lonnie Gordon</td>\n",
       "      <td>Catch You Baby (Steve Pitron &amp; Max Sanna Radio...</td>\n",
       "    </tr>\n",
       "    <tr>\n",
       "      <th>4</th>\n",
       "      <td>4</td>\n",
       "      <td>fd50c4007b68a3737fe052d5a4f78ce8aa117f3d</td>\n",
       "      <td>SODQZCY12A6D4F9D11</td>\n",
       "      <td>1</td>\n",
       "      <td>Miguel Calo</td>\n",
       "      <td>El Cuatrero</td>\n",
       "    </tr>\n",
       "  </tbody>\n",
       "</table>\n",
       "</div>"
      ],
      "text/plain": [
       "   index                                   user_id             song_id  Freq  \\\n",
       "0      0  fd50c4007b68a3737fe052d5a4f78ce8aa117f3d  SOBONKR12A58A7A7E0     1   \n",
       "1      1  fd50c4007b68a3737fe052d5a4f78ce8aa117f3d  SOEGIYH12A6D4FC0E3     1   \n",
       "2      2  fd50c4007b68a3737fe052d5a4f78ce8aa117f3d  SOFLJQZ12A6D4FADA6     1   \n",
       "3      3  fd50c4007b68a3737fe052d5a4f78ce8aa117f3d  SOHTKMO12AB01843B0     1   \n",
       "4      4  fd50c4007b68a3737fe052d5a4f78ce8aa117f3d  SODQZCY12A6D4F9D11     1   \n",
       "\n",
       "                                         Artist_name  \\\n",
       "0                                      Dwight Yoakam   \n",
       "1  Barry Tuckwell/Academy of St Martin-in-the-Fie...   \n",
       "2                                            Cartola   \n",
       "3                                      Lonnie Gordon   \n",
       "4                                        Miguel Calo   \n",
       "\n",
       "                                           song_name  \n",
       "0                                     You're The One  \n",
       "1  Horn Concerto No. 4 in E flat K495: II. Romanc...  \n",
       "2                                           Tive Sim  \n",
       "3  Catch You Baby (Steve Pitron & Max Sanna Radio...  \n",
       "4                                        El Cuatrero  "
      ]
     },
     "execution_count": 78,
     "metadata": {},
     "output_type": "execute_result"
    }
   ],
   "source": [
    "df.head()"
   ]
  },
  {
   "cell_type": "markdown",
   "metadata": {},
   "source": [
    "#### Applying basic statistics to know about our data indepth"
   ]
  },
  {
   "cell_type": "code",
   "execution_count": 79,
   "metadata": {},
   "outputs": [
    {
     "data": {
      "text/html": [
       "<div>\n",
       "<style scoped>\n",
       "    .dataframe tbody tr th:only-of-type {\n",
       "        vertical-align: middle;\n",
       "    }\n",
       "\n",
       "    .dataframe tbody tr th {\n",
       "        vertical-align: top;\n",
       "    }\n",
       "\n",
       "    .dataframe thead th {\n",
       "        text-align: right;\n",
       "    }\n",
       "</style>\n",
       "<table border=\"1\" class=\"dataframe\">\n",
       "  <thead>\n",
       "    <tr style=\"text-align: right;\">\n",
       "      <th></th>\n",
       "      <th>index</th>\n",
       "      <th>Freq</th>\n",
       "    </tr>\n",
       "  </thead>\n",
       "  <tbody>\n",
       "    <tr>\n",
       "      <th>count</th>\n",
       "      <td>1.450932e+06</td>\n",
       "      <td>1.450932e+06</td>\n",
       "    </tr>\n",
       "    <tr>\n",
       "      <th>mean</th>\n",
       "      <td>7.254664e+05</td>\n",
       "      <td>3.187151e+00</td>\n",
       "    </tr>\n",
       "    <tr>\n",
       "      <th>std</th>\n",
       "      <td>4.188483e+05</td>\n",
       "      <td>7.051666e+00</td>\n",
       "    </tr>\n",
       "    <tr>\n",
       "      <th>min</th>\n",
       "      <td>0.000000e+00</td>\n",
       "      <td>1.000000e+00</td>\n",
       "    </tr>\n",
       "    <tr>\n",
       "      <th>25%</th>\n",
       "      <td>3.627338e+05</td>\n",
       "      <td>1.000000e+00</td>\n",
       "    </tr>\n",
       "    <tr>\n",
       "      <th>50%</th>\n",
       "      <td>7.254665e+05</td>\n",
       "      <td>1.000000e+00</td>\n",
       "    </tr>\n",
       "    <tr>\n",
       "      <th>75%</th>\n",
       "      <td>1.088199e+06</td>\n",
       "      <td>3.000000e+00</td>\n",
       "    </tr>\n",
       "    <tr>\n",
       "      <th>max</th>\n",
       "      <td>1.450932e+06</td>\n",
       "      <td>9.230000e+02</td>\n",
       "    </tr>\n",
       "  </tbody>\n",
       "</table>\n",
       "</div>"
      ],
      "text/plain": [
       "              index          Freq\n",
       "count  1.450932e+06  1.450932e+06\n",
       "mean   7.254664e+05  3.187151e+00\n",
       "std    4.188483e+05  7.051666e+00\n",
       "min    0.000000e+00  1.000000e+00\n",
       "25%    3.627338e+05  1.000000e+00\n",
       "50%    7.254665e+05  1.000000e+00\n",
       "75%    1.088199e+06  3.000000e+00\n",
       "max    1.450932e+06  9.230000e+02"
      ]
     },
     "execution_count": 79,
     "metadata": {},
     "output_type": "execute_result"
    }
   ],
   "source": [
    "df.describe()"
   ]
  },
  {
   "cell_type": "code",
   "execution_count": 80,
   "metadata": {},
   "outputs": [
    {
     "data": {
      "text/html": [
       "<div>\n",
       "<style scoped>\n",
       "    .dataframe tbody tr th:only-of-type {\n",
       "        vertical-align: middle;\n",
       "    }\n",
       "\n",
       "    .dataframe tbody tr th {\n",
       "        vertical-align: top;\n",
       "    }\n",
       "\n",
       "    .dataframe thead th {\n",
       "        text-align: right;\n",
       "    }\n",
       "</style>\n",
       "<table border=\"1\" class=\"dataframe\">\n",
       "  <thead>\n",
       "    <tr style=\"text-align: right;\">\n",
       "      <th></th>\n",
       "      <th>user_id</th>\n",
       "      <th>song_id</th>\n",
       "      <th>Artist_name</th>\n",
       "      <th>song_name</th>\n",
       "    </tr>\n",
       "  </thead>\n",
       "  <tbody>\n",
       "    <tr>\n",
       "      <th>count</th>\n",
       "      <td>1450932</td>\n",
       "      <td>1450932</td>\n",
       "      <td>1450932</td>\n",
       "      <td>1450932</td>\n",
       "    </tr>\n",
       "    <tr>\n",
       "      <th>unique</th>\n",
       "      <td>110000</td>\n",
       "      <td>163205</td>\n",
       "      <td>28360</td>\n",
       "      <td>137622</td>\n",
       "    </tr>\n",
       "    <tr>\n",
       "      <th>top</th>\n",
       "      <td>7d90be8dfdbde170f036ce8a4b915440137cb11c</td>\n",
       "      <td>SOFRQTD12A81C233C0</td>\n",
       "      <td>Coldplay</td>\n",
       "      <td>Sehr kosmisch</td>\n",
       "    </tr>\n",
       "    <tr>\n",
       "      <th>freq</th>\n",
       "      <td>53</td>\n",
       "      <td>5043</td>\n",
       "      <td>12279</td>\n",
       "      <td>5043</td>\n",
       "    </tr>\n",
       "  </tbody>\n",
       "</table>\n",
       "</div>"
      ],
      "text/plain": [
       "                                         user_id             song_id  \\\n",
       "count                                    1450932             1450932   \n",
       "unique                                    110000              163205   \n",
       "top     7d90be8dfdbde170f036ce8a4b915440137cb11c  SOFRQTD12A81C233C0   \n",
       "freq                                          53                5043   \n",
       "\n",
       "       Artist_name      song_name  \n",
       "count      1450932        1450932  \n",
       "unique       28360         137622  \n",
       "top       Coldplay  Sehr kosmisch  \n",
       "freq         12279           5043  "
      ]
     },
     "execution_count": 80,
     "metadata": {},
     "output_type": "execute_result"
    }
   ],
   "source": [
    "df.describe(include = 'object')"
   ]
  },
  {
   "cell_type": "markdown",
   "metadata": {},
   "source": [
    "#### Checking for the skewness and kurtosis that is present within the data"
   ]
  },
  {
   "cell_type": "code",
   "execution_count": 81,
   "metadata": {},
   "outputs": [
    {
     "name": "stdout",
     "output_type": "stream",
     "text": [
      "Skewness Present in the data is almost :  index    -0.000001\n",
      "Freq     17.243840\n",
      "dtype: float64\n",
      "Kurtosis Present in the data is almost :  index     -1.199999\n",
      "Freq     785.298304\n",
      "dtype: float64\n"
     ]
    }
   ],
   "source": [
    "print(\"Skewness Present in the data is almost : \",df.skew())\n",
    "print(\"Kurtosis Present in the data is almost : \",df.kurt())"
   ]
  },
  {
   "cell_type": "markdown",
   "metadata": {},
   "source": [
    "#### Checking for the unique values of each columns in the dataset"
   ]
  },
  {
   "cell_type": "code",
   "execution_count": 82,
   "metadata": {},
   "outputs": [
    {
     "name": "stdout",
     "output_type": "stream",
     "text": [
      "Number of Unique User id: 110000 \n",
      "Number of Unique Song id: 163205 \n",
      "Number of Unique Freq: 299 \n",
      "Number of Unique Artist names: 28360 \n",
      "Number of Unique Song names: 137622 \n"
     ]
    }
   ],
   "source": [
    "print(\"Number of Unique User id: {} \\nNumber of Unique Song id: {} \\nNumber of Unique Freq: {} \\nNumber of Unique Artist names: {} \\nNumber of Unique Song names: {} \".format(df[\"user_id\"].nunique(),df[\"song_id\"].nunique(),df[\"Freq\"].nunique(),df[\"Artist_name\"].nunique(),df[\"song_name\"].nunique()),sep=\"\\n\")"
   ]
  },
  {
   "cell_type": "markdown",
   "metadata": {},
   "source": [
    "### Performing the some data preprocessing and EDA  to find the insights in the data "
   ]
  },
  {
   "cell_type": "code",
   "execution_count": 83,
   "metadata": {},
   "outputs": [
    {
     "data": {
      "text/plain": [
       "7d90be8dfdbde170f036ce8a4b915440137cb11c    53\n",
       "d30e18323f15426c3cdc8585252ed34459916f51    52\n",
       "016a24e91a72c159a5048ab1b9b2ba5ce761b526    52\n",
       "03ad93fdb01506ce205f4708decf8e4b1ae90fff    52\n",
       "0f8308935bcbb9a1e04ebb7c4d41c037e5f23b90    52\n",
       "                                            ..\n",
       "0818903f259c72534e01c37911432a22392bb419     5\n",
       "d6e56e1514fda1abe7b9729a12c1f6180ae1ee7f     5\n",
       "230e320c2e679ea5fbbfed7ae4dad7ad9e1f4f21     5\n",
       "a1c14d5d7395a6bbb49d080f45b44c5e5cc28a8e     5\n",
       "1a6f41f40adc550d5c6acefb7172c42e804126b4     5\n",
       "Name: user_id, Length: 110000, dtype: int64"
      ]
     },
     "execution_count": 83,
     "metadata": {},
     "output_type": "execute_result"
    }
   ],
   "source": [
    "### Checking the value_counts for the User_id column \n",
    "\n",
    "df['user_id'].value_counts()"
   ]
  },
  {
   "cell_type": "code",
   "execution_count": 84,
   "metadata": {},
   "outputs": [
    {
     "name": "stdout",
     "output_type": "stream",
     "text": [
      "110000\n"
     ]
    }
   ],
   "source": [
    "### Checking the number of unique songs that the user listened\n",
    "\n",
    "print(len(pd.unique(df['user_id'])))"
   ]
  },
  {
   "cell_type": "markdown",
   "metadata": {},
   "source": [
    "These value counts show the number of unique songs that the user listened to. We have 110,000 users. Let us see how many among these have listened to more than 10 songs"
   ]
  },
  {
   "cell_type": "markdown",
   "metadata": {},
   "source": [
    "#### Checking the number of users who listened more then 10 unique songs"
   ]
  },
  {
   "cell_type": "code",
   "execution_count": 85,
   "metadata": {},
   "outputs": [
    {
     "name": "stdout",
     "output_type": "stream",
     "text": [
      "61841\n"
     ]
    }
   ],
   "source": [
    "v = df['user_id'].value_counts()\n",
    "count = 0\n",
    "for i in v:\n",
    "    if i == 9:\n",
    "        print(count)\n",
    "        break\n",
    "    count = count + 1"
   ]
  },
  {
   "cell_type": "markdown",
   "metadata": {},
   "source": [
    "Hence, we can see that around 62,000 users have listened to 10 or more unique songs."
   ]
  },
  {
   "cell_type": "markdown",
   "metadata": {},
   "source": [
    "### Checking for the  Song ID count\n",
    "\n",
    "We intend to find number of times a song was played. For this, we need to take the frequency column under consideration as well. One way of doing this is by using the Song_ID as a key in dictionary and add the frequency of each of the occurences of that song."
   ]
  },
  {
   "cell_type": "code",
   "execution_count": 86,
   "metadata": {},
   "outputs": [
    {
     "data": {
      "text/plain": [
       "(1450932, 6)"
      ]
     },
     "execution_count": 86,
     "metadata": {},
     "output_type": "execute_result"
    }
   ],
   "source": [
    "df.shape"
   ]
  },
  {
   "cell_type": "code",
   "execution_count": 87,
   "metadata": {},
   "outputs": [],
   "source": [
    "artist_song_count = {}\n",
    "songs = {}\n",
    "for i in range(1450932):\n",
    "    if df['song_id'][i] in songs:\n",
    "        songs[df['song_id'][i]] = songs[df['song_id'][i]] + df['Freq'][i]\n",
    "    else:\n",
    "        songs[df['song_id'][i]] = df['Freq'][i]\n",
    "        if df['Artist_name'][i] in artist_song_count:\n",
    "            artist_song_count[df['Artist_name'][i]] = artist_song_count[df['Artist_name'][i]] + 1\n",
    "        else:\n",
    "            artist_song_count[df['Artist_name'][i]] = 1"
   ]
  },
  {
   "cell_type": "markdown",
   "metadata": {},
   "source": [
    "We have song play count stored in a dictionary called songs. A song's playcount can be found out by accessing the dictionary with song id as the key"
   ]
  },
  {
   "cell_type": "code",
   "execution_count": 88,
   "metadata": {},
   "outputs": [],
   "source": [
    "### Importing the operator library\n",
    "\n",
    "import operator"
   ]
  },
  {
   "cell_type": "code",
   "execution_count": 89,
   "metadata": {},
   "outputs": [],
   "source": [
    "### Creating a songs_sorted variable\n",
    "\n",
    "songs_sorted = dict(sorted(songs.items(), key=operator.itemgetter(1),reverse=True))"
   ]
  },
  {
   "cell_type": "code",
   "execution_count": 90,
   "metadata": {},
   "outputs": [
    {
     "data": {
      "image/png": "[encoded data removed]",
      "text/plain": [
       "<Figure size 720x720 with 1 Axes>"
      ]
     },
     "metadata": {
      "needs_background": "light"
     },
     "output_type": "display_data"
    }
   ],
   "source": [
    "D = {}\n",
    "for i in range(50):\n",
    "    D[list(songs_sorted.keys())[i]]= list(songs_sorted.values())[i]\n",
    "plt.figure(figsize=(10,10))\n",
    "plt.barh(*zip(*D.items()))\n",
    "plt.show()"
   ]
  },
  {
   "cell_type": "markdown",
   "metadata": {},
   "source": [
    "Since the number of songs are very high, we did a countplot of the top 50 songs by playcount. From the countplot, we can observe that just 10 songs have a playcount of above 10,000. The remaining 40 songs have close playcounts between 5000 and 10,000. We can do a similar analysis for the next 50 songs.\n",
    "\n",
    "#### Since the SongIDs are a bit difficult to read, lets replot with song name:  and Artist name on the y-axis"
   ]
  },
  {
   "cell_type": "code",
   "execution_count": 91,
   "metadata": {},
   "outputs": [],
   "source": [
    "song_artist = {}\n",
    "for i in range(1450932):\n",
    "    if df['song_name'][i] + ':' + df['Artist_name'][i] in song_artist:\n",
    "        song_artist[df['song_name'][i] + ':' + df['Artist_name'][i]] = song_artist[df['song_name'][i] + ':' + df['Artist_name'][i]] + df['Freq'][i]\n",
    "    else:\n",
    "        song_artist[df['song_name'][i] + ':' + df['Artist_name'][i]] = df['Freq'][i]"
   ]
  },
  {
   "cell_type": "code",
   "execution_count": 92,
   "metadata": {},
   "outputs": [],
   "source": [
    "### Sorting the songs according to the artist names\n",
    "\n",
    "s_art_sorted = dict(sorted(song_artist.items(), key=operator.itemgetter(1),reverse=True))"
   ]
  },
  {
   "cell_type": "code",
   "execution_count": 93,
   "metadata": {},
   "outputs": [
    {
     "data": {
      "image/png": "[encoded data removed]",
      "text/plain": [
       "<Figure size 792x792 with 1 Axes>"
      ]
     },
     "metadata": {
      "needs_background": "light"
     },
     "output_type": "display_data"
    }
   ],
   "source": [
    "D1 = {}\n",
    "for i in range(50):\n",
    "    D1[list(s_art_sorted.keys())[i]]= list(s_art_sorted.values())[i]\n",
    "plt.figure(figsize=(11,11))\n",
    "plt.barh(*zip(*D1.items()))\n",
    "plt.show()"
   ]
  },
  {
   "cell_type": "markdown",
   "metadata": {},
   "source": [
    "When we plot the bargraph by considering the columns like song_name and the artist_name we can see that the \"You're The One:Dwight Yoakam\" and \"Undo:Bjork\" has  got the most listened count compare to other artist songs since we can say that those songs has been liked many users based on there listened count  "
   ]
  },
  {
   "cell_type": "markdown",
   "metadata": {},
   "source": [
    "#### Let us check the  Artist_name based on there song value counts"
   ]
  },
  {
   "cell_type": "code",
   "execution_count": 94,
   "metadata": {},
   "outputs": [
    {
     "data": {
      "text/plain": [
       "Coldplay                                       12279\n",
       "Kings Of Leon                                   8514\n",
       "Florence + The Machine                          8213\n",
       "Justin Bieber                                   7669\n",
       "Jack Johnson                                    6784\n",
       "                                               ...  \n",
       "Glenn Tipton                                       1\n",
       "Thomas Di Leva                                     1\n",
       "Sidney Polak feat. EastWestRockers                 1\n",
       "Norma Winstone_ Glauco Venier_ Klaus Gesing        1\n",
       "Lee Coombs                                         1\n",
       "Name: Artist_name, Length: 28360, dtype: int64"
      ]
     },
     "execution_count": 94,
     "metadata": {},
     "output_type": "execute_result"
    }
   ],
   "source": [
    "## Checking the value count of artists\n",
    "\n",
    "df['Artist_name'].value_counts()"
   ]
  },
  {
   "cell_type": "markdown",
   "metadata": {},
   "source": [
    "This data for number of songs by an artist is misguiding as songs are repeated.To find out the number of songs each artist releases, we access the dictionary 'songs' which has all the unique songs and find the artist name corresponding to that song and store this in a new dictionary. The dictionary artist_song_count does just that."
   ]
  },
  {
   "cell_type": "code",
   "execution_count": 95,
   "metadata": {},
   "outputs": [],
   "source": [
    "artist_song_count_sorted = dict(sorted(artist_song_count.items(), key=operator.itemgetter(1),reverse=True))"
   ]
  },
  {
   "cell_type": "code",
   "execution_count": 96,
   "metadata": {},
   "outputs": [
    {
     "data": {
      "image/png": "[encoded data removed]",
      "text/plain": [
       "<Figure size 720x720 with 1 Axes>"
      ]
     },
     "metadata": {
      "needs_background": "light"
     },
     "output_type": "display_data"
    }
   ],
   "source": [
    "D2 = {}\n",
    "for i in range(50):\n",
    "    D2[list(artist_song_count_sorted.keys())[i]]= list(artist_song_count_sorted.values())[i]\n",
    "plt.figure(figsize=(10,10))\n",
    "plt.barh(*zip(*D2.items()))\n",
    "plt.show()"
   ]
  },
  {
   "cell_type": "markdown",
   "metadata": {},
   "source": [
    "The bar plot above shows the top 50 users with highest song counts. Almost 45 of these artists have more than 70 songs"
   ]
  },
  {
   "cell_type": "markdown",
   "metadata": {},
   "source": [
    "#### Checking the Artist_name based on their songs listened count"
   ]
  },
  {
   "cell_type": "code",
   "execution_count": 97,
   "metadata": {},
   "outputs": [
    {
     "data": {
      "text/html": [
       "<div>\n",
       "<style scoped>\n",
       "    .dataframe tbody tr th:only-of-type {\n",
       "        vertical-align: middle;\n",
       "    }\n",
       "\n",
       "    .dataframe tbody tr th {\n",
       "        vertical-align: top;\n",
       "    }\n",
       "\n",
       "    .dataframe thead th {\n",
       "        text-align: right;\n",
       "    }\n",
       "</style>\n",
       "<table border=\"1\" class=\"dataframe\">\n",
       "  <thead>\n",
       "    <tr style=\"text-align: right;\">\n",
       "      <th></th>\n",
       "      <th>index</th>\n",
       "      <th>Freq</th>\n",
       "    </tr>\n",
       "    <tr>\n",
       "      <th>Artist_name</th>\n",
       "      <th></th>\n",
       "      <th></th>\n",
       "    </tr>\n",
       "  </thead>\n",
       "  <tbody>\n",
       "    <tr>\n",
       "      <th>Kings Of Leon</th>\n",
       "      <td>6080546825</td>\n",
       "      <td>35857</td>\n",
       "    </tr>\n",
       "    <tr>\n",
       "      <th>Dwight Yoakam</th>\n",
       "      <td>3051126379</td>\n",
       "      <td>35688</td>\n",
       "    </tr>\n",
       "    <tr>\n",
       "      <th>Björk</th>\n",
       "      <td>3722575301</td>\n",
       "      <td>35210</td>\n",
       "    </tr>\n",
       "    <tr>\n",
       "      <th>Coldplay</th>\n",
       "      <td>8781618883</td>\n",
       "      <td>32135</td>\n",
       "    </tr>\n",
       "    <tr>\n",
       "      <th>Florence + The Machine</th>\n",
       "      <td>5989627100</td>\n",
       "      <td>28224</td>\n",
       "    </tr>\n",
       "    <tr>\n",
       "      <th>...</th>\n",
       "      <td>...</td>\n",
       "      <td>...</td>\n",
       "    </tr>\n",
       "    <tr>\n",
       "      <th>Mau - Telepopmusik</th>\n",
       "      <td>844649</td>\n",
       "      <td>1</td>\n",
       "    </tr>\n",
       "    <tr>\n",
       "      <th>Simon Says Feat. Aisjah</th>\n",
       "      <td>324543</td>\n",
       "      <td>1</td>\n",
       "    </tr>\n",
       "    <tr>\n",
       "      <th>Cyndi Lauper with Jeff Beck</th>\n",
       "      <td>1284749</td>\n",
       "      <td>1</td>\n",
       "    </tr>\n",
       "    <tr>\n",
       "      <th>Cycle Sphere</th>\n",
       "      <td>1419293</td>\n",
       "      <td>1</td>\n",
       "    </tr>\n",
       "    <tr>\n",
       "      <th>Özlem Tekin</th>\n",
       "      <td>1083377</td>\n",
       "      <td>1</td>\n",
       "    </tr>\n",
       "  </tbody>\n",
       "</table>\n",
       "<p>28360 rows × 2 columns</p>\n",
       "</div>"
      ],
      "text/plain": [
       "                                  index   Freq\n",
       "Artist_name                                   \n",
       "Kings Of Leon                6080546825  35857\n",
       "Dwight Yoakam                3051126379  35688\n",
       "Björk                        3722575301  35210\n",
       "Coldplay                     8781618883  32135\n",
       "Florence + The Machine       5989627100  28224\n",
       "...                                 ...    ...\n",
       "Mau - Telepopmusik               844649      1\n",
       "Simon Says Feat. Aisjah          324543      1\n",
       "Cyndi Lauper with Jeff Beck     1284749      1\n",
       "Cycle Sphere                    1419293      1\n",
       "Özlem Tekin                     1083377      1\n",
       "\n",
       "[28360 rows x 2 columns]"
      ]
     },
     "execution_count": 97,
     "metadata": {},
     "output_type": "execute_result"
    }
   ],
   "source": [
    "(df.groupby(by=[\"Artist_name\"]).sum()).sort_values(by = 'Freq', ascending = False)"
   ]
  },
  {
   "cell_type": "markdown",
   "metadata": {},
   "source": [
    "Comparing the raw value_counts of artist name earlier gave us a wrong picture as that approach did not take the frequency of the song into consideration. After we correct that, we get **Kings of Leon** as the artist with most play counts followed by **Dwight Yoakam, Bjork** and **Coldplay**"
   ]
  },
  {
   "cell_type": "code",
   "execution_count": 98,
   "metadata": {},
   "outputs": [
    {
     "data": {
      "text/html": [
       "<div>\n",
       "<style scoped>\n",
       "    .dataframe tbody tr th:only-of-type {\n",
       "        vertical-align: middle;\n",
       "    }\n",
       "\n",
       "    .dataframe tbody tr th {\n",
       "        vertical-align: top;\n",
       "    }\n",
       "\n",
       "    .dataframe thead th {\n",
       "        text-align: right;\n",
       "    }\n",
       "</style>\n",
       "<table border=\"1\" class=\"dataframe\">\n",
       "  <thead>\n",
       "    <tr style=\"text-align: right;\">\n",
       "      <th></th>\n",
       "      <th>index</th>\n",
       "      <th>Freq</th>\n",
       "    </tr>\n",
       "    <tr>\n",
       "      <th>Artist_name</th>\n",
       "      <th></th>\n",
       "      <th></th>\n",
       "    </tr>\n",
       "  </thead>\n",
       "  <tbody>\n",
       "    <tr>\n",
       "      <th>Kings Of Leon</th>\n",
       "      <td>6080546825</td>\n",
       "      <td>35857</td>\n",
       "    </tr>\n",
       "    <tr>\n",
       "      <th>Dwight Yoakam</th>\n",
       "      <td>3051126379</td>\n",
       "      <td>35688</td>\n",
       "    </tr>\n",
       "    <tr>\n",
       "      <th>Björk</th>\n",
       "      <td>3722575301</td>\n",
       "      <td>35210</td>\n",
       "    </tr>\n",
       "    <tr>\n",
       "      <th>Coldplay</th>\n",
       "      <td>8781618883</td>\n",
       "      <td>32135</td>\n",
       "    </tr>\n",
       "    <tr>\n",
       "      <th>Florence + The Machine</th>\n",
       "      <td>5989627100</td>\n",
       "      <td>28224</td>\n",
       "    </tr>\n",
       "    <tr>\n",
       "      <th>Justin Bieber</th>\n",
       "      <td>5481781317</td>\n",
       "      <td>26133</td>\n",
       "    </tr>\n",
       "    <tr>\n",
       "      <th>Alliance Ethnik</th>\n",
       "      <td>2898490819</td>\n",
       "      <td>21603</td>\n",
       "    </tr>\n",
       "    <tr>\n",
       "      <th>Train</th>\n",
       "      <td>4714475281</td>\n",
       "      <td>21356</td>\n",
       "    </tr>\n",
       "    <tr>\n",
       "      <th>OneRepublic</th>\n",
       "      <td>4316851496</td>\n",
       "      <td>20802</td>\n",
       "    </tr>\n",
       "    <tr>\n",
       "      <th>Harmonia</th>\n",
       "      <td>3636502263</td>\n",
       "      <td>19461</td>\n",
       "    </tr>\n",
       "    <tr>\n",
       "      <th>Jack Johnson</th>\n",
       "      <td>4990697217</td>\n",
       "      <td>18333</td>\n",
       "    </tr>\n",
       "    <tr>\n",
       "      <th>Linkin Park</th>\n",
       "      <td>4042140333</td>\n",
       "      <td>18256</td>\n",
       "    </tr>\n",
       "    <tr>\n",
       "      <th>Eminem</th>\n",
       "      <td>4601826516</td>\n",
       "      <td>17681</td>\n",
       "    </tr>\n",
       "    <tr>\n",
       "      <th>The Black Keys</th>\n",
       "      <td>4790698414</td>\n",
       "      <td>17366</td>\n",
       "    </tr>\n",
       "    <tr>\n",
       "      <th>Barry Tuckwell/Academy of St Martin-in-the-Fields/Sir Neville Marriner</th>\n",
       "      <td>2335048442</td>\n",
       "      <td>17124</td>\n",
       "    </tr>\n",
       "    <tr>\n",
       "      <th>Muse</th>\n",
       "      <td>4312112854</td>\n",
       "      <td>17031</td>\n",
       "    </tr>\n",
       "    <tr>\n",
       "      <th>Taylor Swift</th>\n",
       "      <td>4003011952</td>\n",
       "      <td>16547</td>\n",
       "    </tr>\n",
       "    <tr>\n",
       "      <th>Metallica</th>\n",
       "      <td>3647901088</td>\n",
       "      <td>16105</td>\n",
       "    </tr>\n",
       "    <tr>\n",
       "      <th>John Mayer</th>\n",
       "      <td>3782340975</td>\n",
       "      <td>14979</td>\n",
       "    </tr>\n",
       "    <tr>\n",
       "      <th>Radiohead</th>\n",
       "      <td>3905981993</td>\n",
       "      <td>14010</td>\n",
       "    </tr>\n",
       "  </tbody>\n",
       "</table>\n",
       "</div>"
      ],
      "text/plain": [
       "                                                         index   Freq\n",
       "Artist_name                                                          \n",
       "Kings Of Leon                                       6080546825  35857\n",
       "Dwight Yoakam                                       3051126379  35688\n",
       "Björk                                               3722575301  35210\n",
       "Coldplay                                            8781618883  32135\n",
       "Florence + The Machine                              5989627100  28224\n",
       "Justin Bieber                                       5481781317  26133\n",
       "Alliance Ethnik                                     2898490819  21603\n",
       "Train                                               4714475281  21356\n",
       "OneRepublic                                         4316851496  20802\n",
       "Harmonia                                            3636502263  19461\n",
       "Jack Johnson                                        4990697217  18333\n",
       "Linkin Park                                         4042140333  18256\n",
       "Eminem                                              4601826516  17681\n",
       "The Black Keys                                      4790698414  17366\n",
       "Barry Tuckwell/Academy of St Martin-in-the-Fiel...  2335048442  17124\n",
       "Muse                                                4312112854  17031\n",
       "Taylor Swift                                        4003011952  16547\n",
       "Metallica                                           3647901088  16105\n",
       "John Mayer                                          3782340975  14979\n",
       "Radiohead                                           3905981993  14010"
      ]
     },
     "execution_count": 98,
     "metadata": {},
     "output_type": "execute_result"
    }
   ],
   "source": [
    "### Checking the top 20 songs of different artist_names based on listen count\n",
    "\n",
    "DF = (df.groupby(by=[\"Artist_name\"]).sum()).sort_values(by = 'Freq', ascending = False)[:20]\n",
    "DF.head(20)"
   ]
  },
  {
   "cell_type": "markdown",
   "metadata": {},
   "source": [
    "We can clearly see that Artists named **Kings of leon**,**Dwight Yoakam**,**Björk**,**Coldplay** has the most listened count to there songs "
   ]
  },
  {
   "cell_type": "code",
   "execution_count": 99,
   "metadata": {},
   "outputs": [
    {
     "data": {
      "text/html": [
       "<div>\n",
       "<style scoped>\n",
       "    .dataframe tbody tr th:only-of-type {\n",
       "        vertical-align: middle;\n",
       "    }\n",
       "\n",
       "    .dataframe tbody tr th {\n",
       "        vertical-align: top;\n",
       "    }\n",
       "\n",
       "    .dataframe thead th {\n",
       "        text-align: right;\n",
       "    }\n",
       "</style>\n",
       "<table border=\"1\" class=\"dataframe\">\n",
       "  <thead>\n",
       "    <tr style=\"text-align: right;\">\n",
       "      <th></th>\n",
       "      <th>Song_count</th>\n",
       "    </tr>\n",
       "  </thead>\n",
       "  <tbody>\n",
       "    <tr>\n",
       "      <th>You're The One:Dwight Yoakam</th>\n",
       "      <td>35432</td>\n",
       "    </tr>\n",
       "    <tr>\n",
       "      <th>Horn Concerto No. 4 in E flat K495: II. Romance (Andante cantabile):Barry Tuckwell/Academy of St Martin-in-the-Fields/Sir Neville Marriner</th>\n",
       "      <td>17115</td>\n",
       "    </tr>\n",
       "    <tr>\n",
       "      <th>Tive Sim:Cartola</th>\n",
       "      <td>7895</td>\n",
       "    </tr>\n",
       "    <tr>\n",
       "      <th>Catch You Baby (Steve Pitron &amp; Max Sanna Radio Edit):Lonnie Gordon</th>\n",
       "      <td>10515</td>\n",
       "    </tr>\n",
       "    <tr>\n",
       "      <th>El Cuatrero:Miguel Calo</th>\n",
       "      <td>732</td>\n",
       "    </tr>\n",
       "  </tbody>\n",
       "</table>\n",
       "</div>"
      ],
      "text/plain": [
       "                                                    Song_count\n",
       "You're The One:Dwight Yoakam                             35432\n",
       "Horn Concerto No. 4 in E flat K495: II. Romance...       17115\n",
       "Tive Sim:Cartola                                          7895\n",
       "Catch You Baby (Steve Pitron & Max Sanna Radio ...       10515\n",
       "El Cuatrero:Miguel Calo                                    732"
      ]
     },
     "execution_count": 99,
     "metadata": {},
     "output_type": "execute_result"
    }
   ],
   "source": [
    "song_artist_df = pd.DataFrame.from_dict(song_artist, orient='index',columns=['Song_count'])\n",
    "song_artist_df.head()"
   ]
  },
  {
   "cell_type": "markdown",
   "metadata": {},
   "source": [
    "### Checking the distribution plot based on songs_count"
   ]
  },
  {
   "cell_type": "code",
   "execution_count": 100,
   "metadata": {},
   "outputs": [
    {
     "data": {
      "image/png": "[encoded data removed]",
      "text/plain": [
       "<Figure size 360x360 with 1 Axes>"
      ]
     },
     "metadata": {
      "needs_background": "light"
     },
     "output_type": "display_data"
    }
   ],
   "source": [
    "sns.displot(song_artist_df['Song_count'], kind = 'kde')\n",
    "plt.show()"
   ]
  },
  {
   "cell_type": "markdown",
   "metadata": {},
   "source": [
    "These distribution plot shows that very few songs have high playcounts"
   ]
  },
  {
   "cell_type": "markdown",
   "metadata": {},
   "source": [
    "### Analysing the songs of Top Artists"
   ]
  },
  {
   "cell_type": "markdown",
   "metadata": {},
   "source": [
    "#### 1. King of leon"
   ]
  },
  {
   "cell_type": "code",
   "execution_count": 101,
   "metadata": {},
   "outputs": [
    {
     "data": {
      "text/html": [
       "<div>\n",
       "<style scoped>\n",
       "    .dataframe tbody tr th:only-of-type {\n",
       "        vertical-align: middle;\n",
       "    }\n",
       "\n",
       "    .dataframe tbody tr th {\n",
       "        vertical-align: top;\n",
       "    }\n",
       "\n",
       "    .dataframe thead th {\n",
       "        text-align: right;\n",
       "    }\n",
       "</style>\n",
       "<table border=\"1\" class=\"dataframe\">\n",
       "  <thead>\n",
       "    <tr style=\"text-align: right;\">\n",
       "      <th></th>\n",
       "      <th>index</th>\n",
       "      <th>user_id</th>\n",
       "      <th>song_id</th>\n",
       "      <th>Freq</th>\n",
       "      <th>Artist_name</th>\n",
       "      <th>song_name</th>\n",
       "    </tr>\n",
       "  </thead>\n",
       "  <tbody>\n",
       "    <tr>\n",
       "      <th>109</th>\n",
       "      <td>109</td>\n",
       "      <td>fdf6afb5daefb42774617cf223475c6013969724</td>\n",
       "      <td>SOPWKOX12A8C139D43</td>\n",
       "      <td>1</td>\n",
       "      <td>Kings Of Leon</td>\n",
       "      <td>Genius</td>\n",
       "    </tr>\n",
       "    <tr>\n",
       "      <th>135</th>\n",
       "      <td>135</td>\n",
       "      <td>18ce1da0e1017e31baaa5f80afa64ee3c7fab379</td>\n",
       "      <td>SOSXLTC12AF72A7F54</td>\n",
       "      <td>9</td>\n",
       "      <td>Kings Of Leon</td>\n",
       "      <td>Revelry</td>\n",
       "    </tr>\n",
       "    <tr>\n",
       "      <th>184</th>\n",
       "      <td>184</td>\n",
       "      <td>eda9bc7bcd72d18b9cf964990eb13a5b1789e78f</td>\n",
       "      <td>SOWCKVR12A8C142411</td>\n",
       "      <td>1</td>\n",
       "      <td>Kings Of Leon</td>\n",
       "      <td>Use Somebody</td>\n",
       "    </tr>\n",
       "    <tr>\n",
       "      <th>329</th>\n",
       "      <td>329</td>\n",
       "      <td>248378ac27e1745d6a9d59392b7dc5b02a6186a6</td>\n",
       "      <td>SOSXLTC12AF72A7F54</td>\n",
       "      <td>2</td>\n",
       "      <td>Kings Of Leon</td>\n",
       "      <td>Revelry</td>\n",
       "    </tr>\n",
       "    <tr>\n",
       "      <th>370</th>\n",
       "      <td>370</td>\n",
       "      <td>c732f882aa8d6db3bfaf8037d6418f27d3e07fc8</td>\n",
       "      <td>SOWCKVR12A8C142411</td>\n",
       "      <td>1</td>\n",
       "      <td>Kings Of Leon</td>\n",
       "      <td>Use Somebody</td>\n",
       "    </tr>\n",
       "  </tbody>\n",
       "</table>\n",
       "</div>"
      ],
      "text/plain": [
       "     index                                   user_id             song_id  \\\n",
       "109    109  fdf6afb5daefb42774617cf223475c6013969724  SOPWKOX12A8C139D43   \n",
       "135    135  18ce1da0e1017e31baaa5f80afa64ee3c7fab379  SOSXLTC12AF72A7F54   \n",
       "184    184  eda9bc7bcd72d18b9cf964990eb13a5b1789e78f  SOWCKVR12A8C142411   \n",
       "329    329  248378ac27e1745d6a9d59392b7dc5b02a6186a6  SOSXLTC12AF72A7F54   \n",
       "370    370  c732f882aa8d6db3bfaf8037d6418f27d3e07fc8  SOWCKVR12A8C142411   \n",
       "\n",
       "     Freq    Artist_name     song_name  \n",
       "109     1  Kings Of Leon        Genius  \n",
       "135     9  Kings Of Leon       Revelry  \n",
       "184     1  Kings Of Leon  Use Somebody  \n",
       "329     2  Kings Of Leon       Revelry  \n",
       "370     1  Kings Of Leon  Use Somebody  "
      ]
     },
     "execution_count": 101,
     "metadata": {},
     "output_type": "execute_result"
    }
   ],
   "source": [
    "df_kol = df.loc[df['Artist_name'] == 'Kings Of Leon']\n",
    "df_kol.head()"
   ]
  },
  {
   "cell_type": "code",
   "execution_count": 102,
   "metadata": {},
   "outputs": [
    {
     "data": {
      "text/plain": [
       "(8514, 6)"
      ]
     },
     "execution_count": 102,
     "metadata": {},
     "output_type": "execute_result"
    }
   ],
   "source": [
    "### Checking the shape of df_kol dataframe\n",
    "df_kol.shape"
   ]
  },
  {
   "cell_type": "code",
   "execution_count": 103,
   "metadata": {},
   "outputs": [],
   "source": [
    "df_kol = df_kol.reset_index()"
   ]
  },
  {
   "cell_type": "code",
   "execution_count": 104,
   "metadata": {},
   "outputs": [
    {
     "data": {
      "text/html": [
       "<div>\n",
       "<style scoped>\n",
       "    .dataframe tbody tr th:only-of-type {\n",
       "        vertical-align: middle;\n",
       "    }\n",
       "\n",
       "    .dataframe tbody tr th {\n",
       "        vertical-align: top;\n",
       "    }\n",
       "\n",
       "    .dataframe thead th {\n",
       "        text-align: right;\n",
       "    }\n",
       "</style>\n",
       "<table border=\"1\" class=\"dataframe\">\n",
       "  <thead>\n",
       "    <tr style=\"text-align: right;\">\n",
       "      <th></th>\n",
       "      <th>level_0</th>\n",
       "      <th>index</th>\n",
       "      <th>user_id</th>\n",
       "      <th>song_id</th>\n",
       "      <th>Freq</th>\n",
       "      <th>Artist_name</th>\n",
       "      <th>song_name</th>\n",
       "    </tr>\n",
       "  </thead>\n",
       "  <tbody>\n",
       "    <tr>\n",
       "      <th>0</th>\n",
       "      <td>109</td>\n",
       "      <td>109</td>\n",
       "      <td>fdf6afb5daefb42774617cf223475c6013969724</td>\n",
       "      <td>SOPWKOX12A8C139D43</td>\n",
       "      <td>1</td>\n",
       "      <td>Kings Of Leon</td>\n",
       "      <td>Genius</td>\n",
       "    </tr>\n",
       "    <tr>\n",
       "      <th>1</th>\n",
       "      <td>135</td>\n",
       "      <td>135</td>\n",
       "      <td>18ce1da0e1017e31baaa5f80afa64ee3c7fab379</td>\n",
       "      <td>SOSXLTC12AF72A7F54</td>\n",
       "      <td>9</td>\n",
       "      <td>Kings Of Leon</td>\n",
       "      <td>Revelry</td>\n",
       "    </tr>\n",
       "    <tr>\n",
       "      <th>2</th>\n",
       "      <td>184</td>\n",
       "      <td>184</td>\n",
       "      <td>eda9bc7bcd72d18b9cf964990eb13a5b1789e78f</td>\n",
       "      <td>SOWCKVR12A8C142411</td>\n",
       "      <td>1</td>\n",
       "      <td>Kings Of Leon</td>\n",
       "      <td>Use Somebody</td>\n",
       "    </tr>\n",
       "    <tr>\n",
       "      <th>3</th>\n",
       "      <td>329</td>\n",
       "      <td>329</td>\n",
       "      <td>248378ac27e1745d6a9d59392b7dc5b02a6186a6</td>\n",
       "      <td>SOSXLTC12AF72A7F54</td>\n",
       "      <td>2</td>\n",
       "      <td>Kings Of Leon</td>\n",
       "      <td>Revelry</td>\n",
       "    </tr>\n",
       "    <tr>\n",
       "      <th>4</th>\n",
       "      <td>370</td>\n",
       "      <td>370</td>\n",
       "      <td>c732f882aa8d6db3bfaf8037d6418f27d3e07fc8</td>\n",
       "      <td>SOWCKVR12A8C142411</td>\n",
       "      <td>1</td>\n",
       "      <td>Kings Of Leon</td>\n",
       "      <td>Use Somebody</td>\n",
       "    </tr>\n",
       "  </tbody>\n",
       "</table>\n",
       "</div>"
      ],
      "text/plain": [
       "   level_0  index                                   user_id  \\\n",
       "0      109    109  fdf6afb5daefb42774617cf223475c6013969724   \n",
       "1      135    135  18ce1da0e1017e31baaa5f80afa64ee3c7fab379   \n",
       "2      184    184  eda9bc7bcd72d18b9cf964990eb13a5b1789e78f   \n",
       "3      329    329  248378ac27e1745d6a9d59392b7dc5b02a6186a6   \n",
       "4      370    370  c732f882aa8d6db3bfaf8037d6418f27d3e07fc8   \n",
       "\n",
       "              song_id  Freq    Artist_name     song_name  \n",
       "0  SOPWKOX12A8C139D43     1  Kings Of Leon        Genius  \n",
       "1  SOSXLTC12AF72A7F54     9  Kings Of Leon       Revelry  \n",
       "2  SOWCKVR12A8C142411     1  Kings Of Leon  Use Somebody  \n",
       "3  SOSXLTC12AF72A7F54     2  Kings Of Leon       Revelry  \n",
       "4  SOWCKVR12A8C142411     1  Kings Of Leon  Use Somebody  "
      ]
     },
     "execution_count": 104,
     "metadata": {},
     "output_type": "execute_result"
    }
   ],
   "source": [
    "df_kol.head()"
   ]
  },
  {
   "cell_type": "code",
   "execution_count": 105,
   "metadata": {},
   "outputs": [],
   "source": [
    "kol_songs = {}\n",
    "for i in range(8514):\n",
    "    if df_kol['song_name'][i] in kol_songs:\n",
    "        kol_songs[df_kol['song_name'][i]] = kol_songs[df_kol['song_name'][i]] + df_kol['Freq'][i]\n",
    "    else:\n",
    "        kol_songs[df_kol['song_name'][i]] = df_kol['Freq'][i]"
   ]
  },
  {
   "cell_type": "code",
   "execution_count": 106,
   "metadata": {},
   "outputs": [
    {
     "data": {
      "image/png": "[encoded data removed]",
      "text/plain": [
       "<Figure size 720x720 with 1 Axes>"
      ]
     },
     "metadata": {
      "needs_background": "light"
     },
     "output_type": "display_data"
    }
   ],
   "source": [
    "plt.figure(figsize=(10,10))\n",
    "plt.barh(*zip(*kol_songs.items()))\n",
    "plt.show()"
   ]
  },
  {
   "cell_type": "markdown",
   "metadata": {},
   "source": [
    "We look on the bar plot the songs like **Revelry and Use Somebody** heavily contributed to King of Leon's high playcount"
   ]
  },
  {
   "cell_type": "markdown",
   "metadata": {},
   "source": [
    "### 2. Dwight Yoakam"
   ]
  },
  {
   "cell_type": "code",
   "execution_count": 107,
   "metadata": {},
   "outputs": [],
   "source": [
    "df_dy = df.loc[df['Artist_name'] == 'Dwight Yoakam']"
   ]
  },
  {
   "cell_type": "code",
   "execution_count": 108,
   "metadata": {},
   "outputs": [
    {
     "data": {
      "text/plain": [
       "(4246, 6)"
      ]
     },
     "execution_count": 108,
     "metadata": {},
     "output_type": "execute_result"
    }
   ],
   "source": [
    "df_dy.shape"
   ]
  },
  {
   "cell_type": "code",
   "execution_count": 109,
   "metadata": {},
   "outputs": [
    {
     "data": {
      "text/plain": [
       "Index(['index', 'user_id', 'song_id', 'Freq', 'Artist_name', 'song_name'], dtype='object')"
      ]
     },
     "execution_count": 109,
     "metadata": {},
     "output_type": "execute_result"
    }
   ],
   "source": [
    "df_dy.columns"
   ]
  },
  {
   "cell_type": "code",
   "execution_count": 110,
   "metadata": {},
   "outputs": [],
   "source": [
    "df_dy = df_dy.reset_index()"
   ]
  },
  {
   "cell_type": "code",
   "execution_count": 111,
   "metadata": {},
   "outputs": [],
   "source": [
    "songs_dy = {}\n",
    "for i in range(4246):\n",
    "    if df_dy['song_name'][i] in songs_dy:\n",
    "        songs_dy[df_dy.loc[i,'song_name']] = songs_dy[df_dy.loc[i,'song_name']] + df_dy.loc[i,'Freq']\n",
    "    else:\n",
    "        songs_dy[df_dy.loc[i,'song_name']] = df_dy.loc[i,'Freq']"
   ]
  },
  {
   "cell_type": "code",
   "execution_count": 112,
   "metadata": {},
   "outputs": [
    {
     "data": {
      "image/png": "[encoded data removed]",
      "text/plain": [
       "<Figure size 720x720 with 1 Axes>"
      ]
     },
     "metadata": {
      "needs_background": "light"
     },
     "output_type": "display_data"
    }
   ],
   "source": [
    "plt.figure(figsize=(10,10))\n",
    "plt.barh(*zip(*songs_dy.items()))\n",
    "plt.show()"
   ]
  },
  {
   "cell_type": "markdown",
   "metadata": {},
   "source": [
    "We can boldly conclude that the song **'You're The One'** contributes to Dwight Yoakams high song playcount on its own"
   ]
  },
  {
   "cell_type": "markdown",
   "metadata": {},
   "source": [
    "### 3. Coldplay"
   ]
  },
  {
   "cell_type": "code",
   "execution_count": 113,
   "metadata": {},
   "outputs": [],
   "source": [
    "df_cp = df.loc[df['Artist_name'] == 'Coldplay']"
   ]
  },
  {
   "cell_type": "code",
   "execution_count": 114,
   "metadata": {},
   "outputs": [
    {
     "data": {
      "text/plain": [
       "(12279, 6)"
      ]
     },
     "execution_count": 114,
     "metadata": {},
     "output_type": "execute_result"
    }
   ],
   "source": [
    "df_cp.shape"
   ]
  },
  {
   "cell_type": "code",
   "execution_count": 115,
   "metadata": {},
   "outputs": [],
   "source": [
    "df_cp = df_cp.reset_index()"
   ]
  },
  {
   "cell_type": "code",
   "execution_count": 116,
   "metadata": {},
   "outputs": [],
   "source": [
    "songs_cp = {}\n",
    "for i in range(12279):\n",
    "    if df_cp['song_name'][i] in songs_cp:\n",
    "        songs_cp[df_cp.loc[i,'song_name']] = songs_cp[df_cp.loc[i,'song_name']] + df_cp.loc[i,'Freq']\n",
    "    else:\n",
    "        songs_cp[df_cp.loc[i,'song_name']] = df_cp.loc[i,'Freq']"
   ]
  },
  {
   "cell_type": "code",
   "execution_count": 117,
   "metadata": {},
   "outputs": [
    {
     "data": {
      "image/png": "[encoded data removed]",
      "text/plain": [
       "<Figure size 720x1440 with 1 Axes>"
      ]
     },
     "metadata": {
      "needs_background": "light"
     },
     "output_type": "display_data"
    }
   ],
   "source": [
    "plt.figure(figsize=(10,20))\n",
    "plt.barh(*zip(*songs_cp.items()))\n",
    "plt.show()"
   ]
  },
  {
   "cell_type": "markdown",
   "metadata": {},
   "source": [
    "Coldplay has a number of songs contributing to their high song playcount. Major contributors are the songs **The Scientist,Clocks,Yellow** and **Fix you**. The songs **In my place,Shiver** and **Speed of sound** also contibute significantly."
   ]
  },
  {
   "cell_type": "markdown",
   "metadata": {},
   "source": [
    "Until now we have did some **Exploratory data analysis** across different columns in dataset with respect to song_id,artist_name etc Now let us take our Original data and do the further prediction in building the recommendation systems"
   ]
  },
  {
   "cell_type": "code",
   "execution_count": 118,
   "metadata": {},
   "outputs": [],
   "source": [
    "df = pd.merge(song_df,df2.drop_duplicates(['song_id']),on='song_id',how='left')"
   ]
  },
  {
   "cell_type": "code",
   "execution_count": 119,
   "metadata": {},
   "outputs": [
    {
     "data": {
      "text/html": [
       "<div>\n",
       "<style scoped>\n",
       "    .dataframe tbody tr th:only-of-type {\n",
       "        vertical-align: middle;\n",
       "    }\n",
       "\n",
       "    .dataframe tbody tr th {\n",
       "        vertical-align: top;\n",
       "    }\n",
       "\n",
       "    .dataframe thead th {\n",
       "        text-align: right;\n",
       "    }\n",
       "</style>\n",
       "<table border=\"1\" class=\"dataframe\">\n",
       "  <thead>\n",
       "    <tr style=\"text-align: right;\">\n",
       "      <th></th>\n",
       "      <th>user_id</th>\n",
       "      <th>song_id</th>\n",
       "      <th>Freq</th>\n",
       "      <th>Artist_name</th>\n",
       "      <th>song_name</th>\n",
       "    </tr>\n",
       "  </thead>\n",
       "  <tbody>\n",
       "    <tr>\n",
       "      <th>0</th>\n",
       "      <td>fd50c4007b68a3737fe052d5a4f78ce8aa117f3d</td>\n",
       "      <td>SOBONKR12A58A7A7E0</td>\n",
       "      <td>1</td>\n",
       "      <td>Dwight Yoakam</td>\n",
       "      <td>You're The One</td>\n",
       "    </tr>\n",
       "    <tr>\n",
       "      <th>1</th>\n",
       "      <td>fd50c4007b68a3737fe052d5a4f78ce8aa117f3d</td>\n",
       "      <td>SOEGIYH12A6D4FC0E3</td>\n",
       "      <td>1</td>\n",
       "      <td>Barry Tuckwell/Academy of St Martin-in-the-Fie...</td>\n",
       "      <td>Horn Concerto No. 4 in E flat K495: II. Romanc...</td>\n",
       "    </tr>\n",
       "    <tr>\n",
       "      <th>2</th>\n",
       "      <td>fd50c4007b68a3737fe052d5a4f78ce8aa117f3d</td>\n",
       "      <td>SOFLJQZ12A6D4FADA6</td>\n",
       "      <td>1</td>\n",
       "      <td>Cartola</td>\n",
       "      <td>Tive Sim</td>\n",
       "    </tr>\n",
       "    <tr>\n",
       "      <th>3</th>\n",
       "      <td>fd50c4007b68a3737fe052d5a4f78ce8aa117f3d</td>\n",
       "      <td>SOHTKMO12AB01843B0</td>\n",
       "      <td>1</td>\n",
       "      <td>Lonnie Gordon</td>\n",
       "      <td>Catch You Baby (Steve Pitron &amp; Max Sanna Radio...</td>\n",
       "    </tr>\n",
       "    <tr>\n",
       "      <th>4</th>\n",
       "      <td>fd50c4007b68a3737fe052d5a4f78ce8aa117f3d</td>\n",
       "      <td>SODQZCY12A6D4F9D11</td>\n",
       "      <td>1</td>\n",
       "      <td>Miguel Calo</td>\n",
       "      <td>El Cuatrero</td>\n",
       "    </tr>\n",
       "  </tbody>\n",
       "</table>\n",
       "</div>"
      ],
      "text/plain": [
       "                                    user_id             song_id  Freq  \\\n",
       "0  fd50c4007b68a3737fe052d5a4f78ce8aa117f3d  SOBONKR12A58A7A7E0     1   \n",
       "1  fd50c4007b68a3737fe052d5a4f78ce8aa117f3d  SOEGIYH12A6D4FC0E3     1   \n",
       "2  fd50c4007b68a3737fe052d5a4f78ce8aa117f3d  SOFLJQZ12A6D4FADA6     1   \n",
       "3  fd50c4007b68a3737fe052d5a4f78ce8aa117f3d  SOHTKMO12AB01843B0     1   \n",
       "4  fd50c4007b68a3737fe052d5a4f78ce8aa117f3d  SODQZCY12A6D4F9D11     1   \n",
       "\n",
       "                                         Artist_name  \\\n",
       "0                                      Dwight Yoakam   \n",
       "1  Barry Tuckwell/Academy of St Martin-in-the-Fie...   \n",
       "2                                            Cartola   \n",
       "3                                      Lonnie Gordon   \n",
       "4                                        Miguel Calo   \n",
       "\n",
       "                                           song_name  \n",
       "0                                     You're The One  \n",
       "1  Horn Concerto No. 4 in E flat K495: II. Romanc...  \n",
       "2                                           Tive Sim  \n",
       "3  Catch You Baby (Steve Pitron & Max Sanna Radio...  \n",
       "4                                        El Cuatrero  "
      ]
     },
     "execution_count": 119,
     "metadata": {},
     "output_type": "execute_result"
    }
   ],
   "source": [
    "df.head()"
   ]
  },
  {
   "cell_type": "code",
   "execution_count": 120,
   "metadata": {},
   "outputs": [],
   "source": [
    "### Creating a song column which combine both song_name and Artist_name\n",
    "\n",
    "df['song'] = df['song_name']+' - '+df['Artist_name']"
   ]
  },
  {
   "cell_type": "code",
   "execution_count": 121,
   "metadata": {},
   "outputs": [
    {
     "data": {
      "text/html": [
       "<div>\n",
       "<style scoped>\n",
       "    .dataframe tbody tr th:only-of-type {\n",
       "        vertical-align: middle;\n",
       "    }\n",
       "\n",
       "    .dataframe tbody tr th {\n",
       "        vertical-align: top;\n",
       "    }\n",
       "\n",
       "    .dataframe thead th {\n",
       "        text-align: right;\n",
       "    }\n",
       "</style>\n",
       "<table border=\"1\" class=\"dataframe\">\n",
       "  <thead>\n",
       "    <tr style=\"text-align: right;\">\n",
       "      <th></th>\n",
       "      <th>user_id</th>\n",
       "      <th>song_id</th>\n",
       "      <th>Freq</th>\n",
       "      <th>Artist_name</th>\n",
       "      <th>song_name</th>\n",
       "      <th>song</th>\n",
       "    </tr>\n",
       "  </thead>\n",
       "  <tbody>\n",
       "    <tr>\n",
       "      <th>0</th>\n",
       "      <td>fd50c4007b68a3737fe052d5a4f78ce8aa117f3d</td>\n",
       "      <td>SOBONKR12A58A7A7E0</td>\n",
       "      <td>1</td>\n",
       "      <td>Dwight Yoakam</td>\n",
       "      <td>You're The One</td>\n",
       "      <td>You're The One - Dwight Yoakam</td>\n",
       "    </tr>\n",
       "    <tr>\n",
       "      <th>1</th>\n",
       "      <td>fd50c4007b68a3737fe052d5a4f78ce8aa117f3d</td>\n",
       "      <td>SOEGIYH12A6D4FC0E3</td>\n",
       "      <td>1</td>\n",
       "      <td>Barry Tuckwell/Academy of St Martin-in-the-Fie...</td>\n",
       "      <td>Horn Concerto No. 4 in E flat K495: II. Romanc...</td>\n",
       "      <td>Horn Concerto No. 4 in E flat K495: II. Romanc...</td>\n",
       "    </tr>\n",
       "    <tr>\n",
       "      <th>2</th>\n",
       "      <td>fd50c4007b68a3737fe052d5a4f78ce8aa117f3d</td>\n",
       "      <td>SOFLJQZ12A6D4FADA6</td>\n",
       "      <td>1</td>\n",
       "      <td>Cartola</td>\n",
       "      <td>Tive Sim</td>\n",
       "      <td>Tive Sim - Cartola</td>\n",
       "    </tr>\n",
       "    <tr>\n",
       "      <th>3</th>\n",
       "      <td>fd50c4007b68a3737fe052d5a4f78ce8aa117f3d</td>\n",
       "      <td>SOHTKMO12AB01843B0</td>\n",
       "      <td>1</td>\n",
       "      <td>Lonnie Gordon</td>\n",
       "      <td>Catch You Baby (Steve Pitron &amp; Max Sanna Radio...</td>\n",
       "      <td>Catch You Baby (Steve Pitron &amp; Max Sanna Radio...</td>\n",
       "    </tr>\n",
       "    <tr>\n",
       "      <th>4</th>\n",
       "      <td>fd50c4007b68a3737fe052d5a4f78ce8aa117f3d</td>\n",
       "      <td>SODQZCY12A6D4F9D11</td>\n",
       "      <td>1</td>\n",
       "      <td>Miguel Calo</td>\n",
       "      <td>El Cuatrero</td>\n",
       "      <td>El Cuatrero - Miguel Calo</td>\n",
       "    </tr>\n",
       "  </tbody>\n",
       "</table>\n",
       "</div>"
      ],
      "text/plain": [
       "                                    user_id             song_id  Freq  \\\n",
       "0  fd50c4007b68a3737fe052d5a4f78ce8aa117f3d  SOBONKR12A58A7A7E0     1   \n",
       "1  fd50c4007b68a3737fe052d5a4f78ce8aa117f3d  SOEGIYH12A6D4FC0E3     1   \n",
       "2  fd50c4007b68a3737fe052d5a4f78ce8aa117f3d  SOFLJQZ12A6D4FADA6     1   \n",
       "3  fd50c4007b68a3737fe052d5a4f78ce8aa117f3d  SOHTKMO12AB01843B0     1   \n",
       "4  fd50c4007b68a3737fe052d5a4f78ce8aa117f3d  SODQZCY12A6D4F9D11     1   \n",
       "\n",
       "                                         Artist_name  \\\n",
       "0                                      Dwight Yoakam   \n",
       "1  Barry Tuckwell/Academy of St Martin-in-the-Fie...   \n",
       "2                                            Cartola   \n",
       "3                                      Lonnie Gordon   \n",
       "4                                        Miguel Calo   \n",
       "\n",
       "                                           song_name  \\\n",
       "0                                     You're The One   \n",
       "1  Horn Concerto No. 4 in E flat K495: II. Romanc...   \n",
       "2                                           Tive Sim   \n",
       "3  Catch You Baby (Steve Pitron & Max Sanna Radio...   \n",
       "4                                        El Cuatrero   \n",
       "\n",
       "                                                song  \n",
       "0                     You're The One - Dwight Yoakam  \n",
       "1  Horn Concerto No. 4 in E flat K495: II. Romanc...  \n",
       "2                                 Tive Sim - Cartola  \n",
       "3  Catch You Baby (Steve Pitron & Max Sanna Radio...  \n",
       "4                          El Cuatrero - Miguel Calo  "
      ]
     },
     "execution_count": 121,
     "metadata": {},
     "output_type": "execute_result"
    }
   ],
   "source": [
    "df.head()"
   ]
  },
  {
   "cell_type": "code",
   "execution_count": 122,
   "metadata": {},
   "outputs": [],
   "source": [
    "df=df.dropna().reset_index()"
   ]
  },
  {
   "cell_type": "code",
   "execution_count": 123,
   "metadata": {},
   "outputs": [
    {
     "data": {
      "text/html": [
       "<div>\n",
       "<style scoped>\n",
       "    .dataframe tbody tr th:only-of-type {\n",
       "        vertical-align: middle;\n",
       "    }\n",
       "\n",
       "    .dataframe tbody tr th {\n",
       "        vertical-align: top;\n",
       "    }\n",
       "\n",
       "    .dataframe thead th {\n",
       "        text-align: right;\n",
       "    }\n",
       "</style>\n",
       "<table border=\"1\" class=\"dataframe\">\n",
       "  <thead>\n",
       "    <tr style=\"text-align: right;\">\n",
       "      <th></th>\n",
       "      <th>index</th>\n",
       "      <th>user_id</th>\n",
       "      <th>song_id</th>\n",
       "      <th>Freq</th>\n",
       "      <th>Artist_name</th>\n",
       "      <th>song_name</th>\n",
       "      <th>song</th>\n",
       "    </tr>\n",
       "  </thead>\n",
       "  <tbody>\n",
       "    <tr>\n",
       "      <th>0</th>\n",
       "      <td>0</td>\n",
       "      <td>fd50c4007b68a3737fe052d5a4f78ce8aa117f3d</td>\n",
       "      <td>SOBONKR12A58A7A7E0</td>\n",
       "      <td>1</td>\n",
       "      <td>Dwight Yoakam</td>\n",
       "      <td>You're The One</td>\n",
       "      <td>You're The One - Dwight Yoakam</td>\n",
       "    </tr>\n",
       "    <tr>\n",
       "      <th>1</th>\n",
       "      <td>1</td>\n",
       "      <td>fd50c4007b68a3737fe052d5a4f78ce8aa117f3d</td>\n",
       "      <td>SOEGIYH12A6D4FC0E3</td>\n",
       "      <td>1</td>\n",
       "      <td>Barry Tuckwell/Academy of St Martin-in-the-Fie...</td>\n",
       "      <td>Horn Concerto No. 4 in E flat K495: II. Romanc...</td>\n",
       "      <td>Horn Concerto No. 4 in E flat K495: II. Romanc...</td>\n",
       "    </tr>\n",
       "    <tr>\n",
       "      <th>2</th>\n",
       "      <td>2</td>\n",
       "      <td>fd50c4007b68a3737fe052d5a4f78ce8aa117f3d</td>\n",
       "      <td>SOFLJQZ12A6D4FADA6</td>\n",
       "      <td>1</td>\n",
       "      <td>Cartola</td>\n",
       "      <td>Tive Sim</td>\n",
       "      <td>Tive Sim - Cartola</td>\n",
       "    </tr>\n",
       "    <tr>\n",
       "      <th>3</th>\n",
       "      <td>3</td>\n",
       "      <td>fd50c4007b68a3737fe052d5a4f78ce8aa117f3d</td>\n",
       "      <td>SOHTKMO12AB01843B0</td>\n",
       "      <td>1</td>\n",
       "      <td>Lonnie Gordon</td>\n",
       "      <td>Catch You Baby (Steve Pitron &amp; Max Sanna Radio...</td>\n",
       "      <td>Catch You Baby (Steve Pitron &amp; Max Sanna Radio...</td>\n",
       "    </tr>\n",
       "    <tr>\n",
       "      <th>4</th>\n",
       "      <td>4</td>\n",
       "      <td>fd50c4007b68a3737fe052d5a4f78ce8aa117f3d</td>\n",
       "      <td>SODQZCY12A6D4F9D11</td>\n",
       "      <td>1</td>\n",
       "      <td>Miguel Calo</td>\n",
       "      <td>El Cuatrero</td>\n",
       "      <td>El Cuatrero - Miguel Calo</td>\n",
       "    </tr>\n",
       "  </tbody>\n",
       "</table>\n",
       "</div>"
      ],
      "text/plain": [
       "   index                                   user_id             song_id  Freq  \\\n",
       "0      0  fd50c4007b68a3737fe052d5a4f78ce8aa117f3d  SOBONKR12A58A7A7E0     1   \n",
       "1      1  fd50c4007b68a3737fe052d5a4f78ce8aa117f3d  SOEGIYH12A6D4FC0E3     1   \n",
       "2      2  fd50c4007b68a3737fe052d5a4f78ce8aa117f3d  SOFLJQZ12A6D4FADA6     1   \n",
       "3      3  fd50c4007b68a3737fe052d5a4f78ce8aa117f3d  SOHTKMO12AB01843B0     1   \n",
       "4      4  fd50c4007b68a3737fe052d5a4f78ce8aa117f3d  SODQZCY12A6D4F9D11     1   \n",
       "\n",
       "                                         Artist_name  \\\n",
       "0                                      Dwight Yoakam   \n",
       "1  Barry Tuckwell/Academy of St Martin-in-the-Fie...   \n",
       "2                                            Cartola   \n",
       "3                                      Lonnie Gordon   \n",
       "4                                        Miguel Calo   \n",
       "\n",
       "                                           song_name  \\\n",
       "0                                     You're The One   \n",
       "1  Horn Concerto No. 4 in E flat K495: II. Romanc...   \n",
       "2                                           Tive Sim   \n",
       "3  Catch You Baby (Steve Pitron & Max Sanna Radio...   \n",
       "4                                        El Cuatrero   \n",
       "\n",
       "                                                song  \n",
       "0                     You're The One - Dwight Yoakam  \n",
       "1  Horn Concerto No. 4 in E flat K495: II. Romanc...  \n",
       "2                                 Tive Sim - Cartola  \n",
       "3  Catch You Baby (Steve Pitron & Max Sanna Radio...  \n",
       "4                          El Cuatrero - Miguel Calo  "
      ]
     },
     "execution_count": 123,
     "metadata": {},
     "output_type": "execute_result"
    }
   ],
   "source": [
    "df.head()"
   ]
  },
  {
   "cell_type": "code",
   "execution_count": 124,
   "metadata": {},
   "outputs": [
    {
     "data": {
      "text/plain": [
       "(1450932, 7)"
      ]
     },
     "execution_count": 124,
     "metadata": {},
     "output_type": "execute_result"
    }
   ],
   "source": [
    "df.shape"
   ]
  },
  {
   "cell_type": "markdown",
   "metadata": {},
   "source": [
    "Upto now we have understood the **data and done some exploratory data analysis** let us built some popular **recomendation models to predict the Songs to New and Existing users**"
   ]
  },
  {
   "cell_type": "markdown",
   "metadata": {},
   "source": [
    "#### Predicting the Recommendation model by using Popularity based Filtering"
   ]
  },
  {
   "cell_type": "code",
   "execution_count": 126,
   "metadata": {},
   "outputs": [
    {
     "name": "stdout",
     "output_type": "stream",
     "text": [
      "You're The One:Dwight Yoakam\n",
      "Undo:Björk\n",
      "Revelry:Kings Of Leon\n",
      "Sehr kosmisch:Harmonia\n",
      "Horn Concerto No. 4 in E flat K495: II. Romance (Andante cantabile):Barry Tuckwell/Academy of St Martin-in-the-Fields/Sir Neville Marriner\n",
      "Dog Days Are Over (Radio Edit):Florence + The Machine\n",
      "Secrets:OneRepublic\n",
      "Ain't Misbehavin:Sam Cooke\n",
      "Invalid:Tub Ring\n",
      "Catch You Baby (Steve Pitron & Max Sanna Radio Edit):Lonnie Gordon\n"
     ]
    }
   ],
   "source": [
    "### Top 10 popular songs. We recommend these to a new user\n",
    "\n",
    "for i in list(D1.keys())[:10]:\n",
    "    print(i)"
   ]
  },
  {
   "cell_type": "markdown",
   "metadata": {},
   "source": [
    "Till now we have the songs sorted by popularity. Now, we recommend these songs in a batch of 10 songs to the user. We only recommend songs which the user did not previously listen to."
   ]
  },
  {
   "cell_type": "code",
   "execution_count": 127,
   "metadata": {},
   "outputs": [],
   "source": [
    "### Creating a User dictionary\n",
    "\n",
    "users = {}\n",
    "for i in range(1450932):\n",
    "    if df['user_id'][i] in users:\n",
    "        if df['song_id'][i] not in users[df['user_id'][i]]:\n",
    "            users[df['user_id'][i]].append(df['song_id'][i])\n",
    "    else:\n",
    "        users[df['user_id'][i]] = []\n",
    "        (users[df['user_id'][i]]).append(df['song_id'][i])"
   ]
  },
  {
   "cell_type": "code",
   "execution_count": 135,
   "metadata": {},
   "outputs": [],
   "source": [
    "popular_songs = list(s_art_sorted.keys())[:65]"
   ]
  },
  {
   "cell_type": "code",
   "execution_count": 136,
   "metadata": {},
   "outputs": [],
   "source": [
    "popular_songs_ids = list(songs_sorted.keys())[:65]"
   ]
  },
  {
   "cell_type": "code",
   "execution_count": 137,
   "metadata": {},
   "outputs": [],
   "source": [
    "# Recommend a song to a user\n",
    "\n",
    "def recommend(User):\n",
    "    k = 0\n",
    "    recommended_songs = []\n",
    "    while k < 10:\n",
    "        if popular_songs_ids[k] not in users[User]:\n",
    "            k = k + 1\n",
    "            recommended_songs.append(popular_songs[k])\n",
    "    return recommended_songs"
   ]
  },
  {
   "cell_type": "code",
   "execution_count": 138,
   "metadata": {},
   "outputs": [
    {
     "name": "stdout",
     "output_type": "stream",
     "text": [
      "[35432, 33179, 24359, 19454, 17115, 14279, 12392, 11610, 10794, 10515]\n"
     ]
    }
   ],
   "source": [
    "# This is most generally used to recommend for a new user\n",
    "\n",
    "print(list(songs_sorted.values())[:10])"
   ]
  },
  {
   "cell_type": "code",
   "execution_count": 139,
   "metadata": {},
   "outputs": [
    {
     "name": "stdout",
     "output_type": "stream",
     "text": [
      "Undo:Björk\n",
      "Revelry:Kings Of Leon\n",
      "Sehr kosmisch:Harmonia\n",
      "Horn Concerto No. 4 in E flat K495: II. Romance (Andante cantabile):Barry Tuckwell/Academy of St Martin-in-the-Fields/Sir Neville Marriner\n",
      "Dog Days Are Over (Radio Edit):Florence + The Machine\n",
      "Secrets:OneRepublic\n",
      "Ain't Misbehavin:Sam Cooke\n",
      "Invalid:Tub Ring\n",
      "Catch You Baby (Steve Pitron & Max Sanna Radio Edit):Lonnie Gordon\n",
      "Canada:Five Iron Frenzy\n"
     ]
    }
   ],
   "source": [
    "#For an existing user\n",
    "\n",
    "result = recommend(df['user_id'][6])\n",
    "for i in result:\n",
    "    print(i)"
   ]
  },
  {
   "cell_type": "code",
   "execution_count": 140,
   "metadata": {},
   "outputs": [],
   "source": [
    "# creating new feature combining title and artist name\n",
    "\n",
    "df['song'] = df['song_name']+' - '+df['Artist_name']"
   ]
  },
  {
   "cell_type": "code",
   "execution_count": 141,
   "metadata": {},
   "outputs": [],
   "source": [
    "# taking top 50k samples for predicting the quick results\n",
    "\n",
    "df = df.head(50000)"
   ]
  },
  {
   "cell_type": "markdown",
   "metadata": {},
   "source": [
    "#### Predicting the Recommendation model using Item based  Collaborative filtering"
   ]
  },
  {
   "cell_type": "code",
   "execution_count": 142,
   "metadata": {},
   "outputs": [],
   "source": [
    "import recommender as recommender\n",
    "\n",
    "ir = recommender.item_similarity_recommender_py()\n",
    "ir.create(df, 'user_id', 'song')"
   ]
  },
  {
   "cell_type": "code",
   "execution_count": 143,
   "metadata": {},
   "outputs": [],
   "source": [
    "user_items = ir.get_user_items(df['user_id'][5])"
   ]
  },
  {
   "cell_type": "code",
   "execution_count": 144,
   "metadata": {},
   "outputs": [
    {
     "name": "stdout",
     "output_type": "stream",
     "text": [
      "You're The One - Dwight Yoakam\n",
      "Horn Concerto No. 4 in E flat K495: II. Romance (Andante cantabile) - Barry Tuckwell/Academy of St Martin-in-the-Fields/Sir Neville Marriner\n",
      "Tive Sim - Cartola\n",
      "Catch You Baby (Steve Pitron & Max Sanna Radio Edit) - Lonnie Gordon\n",
      "El Cuatrero - Miguel Calo\n",
      "Unite (2009 Digital Remaster) - Beastie Boys\n"
     ]
    }
   ],
   "source": [
    "# display user songs history\n",
    "\n",
    "for user_item in user_items:\n",
    "    print(user_item)"
   ]
  },
  {
   "cell_type": "code",
   "execution_count": 145,
   "metadata": {},
   "outputs": [
    {
     "name": "stdout",
     "output_type": "stream",
     "text": [
      "No. of unique songs for the user: 6\n",
      "no. of unique songs in the training set: 25834\n",
      "Non zero values in cooccurence_matrix :4732\n"
     ]
    },
    {
     "data": {
      "text/html": [
       "<div>\n",
       "<style scoped>\n",
       "    .dataframe tbody tr th:only-of-type {\n",
       "        vertical-align: middle;\n",
       "    }\n",
       "\n",
       "    .dataframe tbody tr th {\n",
       "        vertical-align: top;\n",
       "    }\n",
       "\n",
       "    .dataframe thead th {\n",
       "        text-align: right;\n",
       "    }\n",
       "</style>\n",
       "<table border=\"1\" class=\"dataframe\">\n",
       "  <thead>\n",
       "    <tr style=\"text-align: right;\">\n",
       "      <th></th>\n",
       "      <th>user_id</th>\n",
       "      <th>song</th>\n",
       "      <th>score</th>\n",
       "      <th>rank</th>\n",
       "    </tr>\n",
       "  </thead>\n",
       "  <tbody>\n",
       "    <tr>\n",
       "      <th>0</th>\n",
       "      <td>fd50c4007b68a3737fe052d5a4f78ce8aa117f3d</td>\n",
       "      <td>Undo - Björk</td>\n",
       "      <td>0.067280</td>\n",
       "      <td>1</td>\n",
       "    </tr>\n",
       "    <tr>\n",
       "      <th>1</th>\n",
       "      <td>fd50c4007b68a3737fe052d5a4f78ce8aa117f3d</td>\n",
       "      <td>Revelry - Kings Of Leon</td>\n",
       "      <td>0.063660</td>\n",
       "      <td>2</td>\n",
       "    </tr>\n",
       "    <tr>\n",
       "      <th>2</th>\n",
       "      <td>fd50c4007b68a3737fe052d5a4f78ce8aa117f3d</td>\n",
       "      <td>La Magia De Tus Besos - Grupo Niche</td>\n",
       "      <td>0.055556</td>\n",
       "      <td>3</td>\n",
       "    </tr>\n",
       "    <tr>\n",
       "      <th>3</th>\n",
       "      <td>fd50c4007b68a3737fe052d5a4f78ce8aa117f3d</td>\n",
       "      <td>Everybody's Fool - Evanescence</td>\n",
       "      <td>0.055556</td>\n",
       "      <td>4</td>\n",
       "    </tr>\n",
       "    <tr>\n",
       "      <th>4</th>\n",
       "      <td>fd50c4007b68a3737fe052d5a4f78ce8aa117f3d</td>\n",
       "      <td>Histoire de geek - Smash hit combo</td>\n",
       "      <td>0.055556</td>\n",
       "      <td>5</td>\n",
       "    </tr>\n",
       "    <tr>\n",
       "      <th>5</th>\n",
       "      <td>fd50c4007b68a3737fe052d5a4f78ce8aa117f3d</td>\n",
       "      <td>Cuenta Conmigo - Jerry Rivera</td>\n",
       "      <td>0.055556</td>\n",
       "      <td>6</td>\n",
       "    </tr>\n",
       "    <tr>\n",
       "      <th>6</th>\n",
       "      <td>fd50c4007b68a3737fe052d5a4f78ce8aa117f3d</td>\n",
       "      <td>Heaven's Missing An Angel - 98º</td>\n",
       "      <td>0.055556</td>\n",
       "      <td>7</td>\n",
       "    </tr>\n",
       "    <tr>\n",
       "      <th>7</th>\n",
       "      <td>fd50c4007b68a3737fe052d5a4f78ce8aa117f3d</td>\n",
       "      <td>That's The Way Love Goes - David Frizzell</td>\n",
       "      <td>0.055556</td>\n",
       "      <td>8</td>\n",
       "    </tr>\n",
       "    <tr>\n",
       "      <th>8</th>\n",
       "      <td>fd50c4007b68a3737fe052d5a4f78ce8aa117f3d</td>\n",
       "      <td>Rattlechaser - Xploding Plastix</td>\n",
       "      <td>0.055556</td>\n",
       "      <td>9</td>\n",
       "    </tr>\n",
       "    <tr>\n",
       "      <th>9</th>\n",
       "      <td>fd50c4007b68a3737fe052d5a4f78ce8aa117f3d</td>\n",
       "      <td>Fly With Me - 98º</td>\n",
       "      <td>0.055556</td>\n",
       "      <td>10</td>\n",
       "    </tr>\n",
       "  </tbody>\n",
       "</table>\n",
       "</div>"
      ],
      "text/plain": [
       "                                    user_id  \\\n",
       "0  fd50c4007b68a3737fe052d5a4f78ce8aa117f3d   \n",
       "1  fd50c4007b68a3737fe052d5a4f78ce8aa117f3d   \n",
       "2  fd50c4007b68a3737fe052d5a4f78ce8aa117f3d   \n",
       "3  fd50c4007b68a3737fe052d5a4f78ce8aa117f3d   \n",
       "4  fd50c4007b68a3737fe052d5a4f78ce8aa117f3d   \n",
       "5  fd50c4007b68a3737fe052d5a4f78ce8aa117f3d   \n",
       "6  fd50c4007b68a3737fe052d5a4f78ce8aa117f3d   \n",
       "7  fd50c4007b68a3737fe052d5a4f78ce8aa117f3d   \n",
       "8  fd50c4007b68a3737fe052d5a4f78ce8aa117f3d   \n",
       "9  fd50c4007b68a3737fe052d5a4f78ce8aa117f3d   \n",
       "\n",
       "                                        song     score rank  \n",
       "0                               Undo - Björk  0.067280    1  \n",
       "1                    Revelry - Kings Of Leon  0.063660    2  \n",
       "2        La Magia De Tus Besos - Grupo Niche  0.055556    3  \n",
       "3             Everybody's Fool - Evanescence  0.055556    4  \n",
       "4         Histoire de geek - Smash hit combo  0.055556    5  \n",
       "5              Cuenta Conmigo - Jerry Rivera  0.055556    6  \n",
       "6            Heaven's Missing An Angel - 98º  0.055556    7  \n",
       "7  That's The Way Love Goes - David Frizzell  0.055556    8  \n",
       "8            Rattlechaser - Xploding Plastix  0.055556    9  \n",
       "9                          Fly With Me - 98º  0.055556   10  "
      ]
     },
     "execution_count": 145,
     "metadata": {},
     "output_type": "execute_result"
    }
   ],
   "source": [
    "# give song recommendation for that user\n",
    "\n",
    "ir.recommend(df['user_id'][5])"
   ]
  },
  {
   "cell_type": "code",
   "execution_count": 146,
   "metadata": {},
   "outputs": [
    {
     "name": "stdout",
     "output_type": "stream",
     "text": [
      "no. of unique songs in the training set: 25834\n",
      "Non zero values in cooccurence_matrix :1822\n"
     ]
    },
    {
     "data": {
      "text/html": [
       "<div>\n",
       "<style scoped>\n",
       "    .dataframe tbody tr th:only-of-type {\n",
       "        vertical-align: middle;\n",
       "    }\n",
       "\n",
       "    .dataframe tbody tr th {\n",
       "        vertical-align: top;\n",
       "    }\n",
       "\n",
       "    .dataframe thead th {\n",
       "        text-align: right;\n",
       "    }\n",
       "</style>\n",
       "<table border=\"1\" class=\"dataframe\">\n",
       "  <thead>\n",
       "    <tr style=\"text-align: right;\">\n",
       "      <th></th>\n",
       "      <th>user_id</th>\n",
       "      <th>song</th>\n",
       "      <th>score</th>\n",
       "      <th>rank</th>\n",
       "    </tr>\n",
       "  </thead>\n",
       "  <tbody>\n",
       "    <tr>\n",
       "      <th>0</th>\n",
       "      <td></td>\n",
       "      <td>Dog Days Are Over (Radio Edit) - Florence + Th...</td>\n",
       "      <td>0.070349</td>\n",
       "      <td>1</td>\n",
       "    </tr>\n",
       "    <tr>\n",
       "      <th>1</th>\n",
       "      <td></td>\n",
       "      <td>You're The One - Dwight Yoakam</td>\n",
       "      <td>0.066960</td>\n",
       "      <td>2</td>\n",
       "    </tr>\n",
       "    <tr>\n",
       "      <th>2</th>\n",
       "      <td></td>\n",
       "      <td>Horn Concerto No. 4 in E flat K495: II. Romanc...</td>\n",
       "      <td>0.063751</td>\n",
       "      <td>3</td>\n",
       "    </tr>\n",
       "    <tr>\n",
       "      <th>3</th>\n",
       "      <td></td>\n",
       "      <td>Catch You Baby (Steve Pitron &amp; Max Sanna Radio...</td>\n",
       "      <td>0.059145</td>\n",
       "      <td>4</td>\n",
       "    </tr>\n",
       "    <tr>\n",
       "      <th>4</th>\n",
       "      <td></td>\n",
       "      <td>Revelry - Kings Of Leon</td>\n",
       "      <td>0.054947</td>\n",
       "      <td>5</td>\n",
       "    </tr>\n",
       "    <tr>\n",
       "      <th>5</th>\n",
       "      <td></td>\n",
       "      <td>Undo - Björk</td>\n",
       "      <td>0.054057</td>\n",
       "      <td>6</td>\n",
       "    </tr>\n",
       "    <tr>\n",
       "      <th>6</th>\n",
       "      <td></td>\n",
       "      <td>OMG - Usher featuring will.i.am</td>\n",
       "      <td>0.052382</td>\n",
       "      <td>7</td>\n",
       "    </tr>\n",
       "    <tr>\n",
       "      <th>7</th>\n",
       "      <td></td>\n",
       "      <td>Billionaire [feat. Bruno Mars]  (Explicit Albu...</td>\n",
       "      <td>0.052007</td>\n",
       "      <td>8</td>\n",
       "    </tr>\n",
       "    <tr>\n",
       "      <th>8</th>\n",
       "      <td></td>\n",
       "      <td>Sehr kosmisch - Harmonia</td>\n",
       "      <td>0.051036</td>\n",
       "      <td>9</td>\n",
       "    </tr>\n",
       "    <tr>\n",
       "      <th>9</th>\n",
       "      <td></td>\n",
       "      <td>Pursuit Of Happiness (nightmare) - Kid Cudi / ...</td>\n",
       "      <td>0.049951</td>\n",
       "      <td>10</td>\n",
       "    </tr>\n",
       "  </tbody>\n",
       "</table>\n",
       "</div>"
      ],
      "text/plain": [
       "  user_id                                               song     score rank\n",
       "0          Dog Days Are Over (Radio Edit) - Florence + Th...  0.070349    1\n",
       "1                             You're The One - Dwight Yoakam  0.066960    2\n",
       "2          Horn Concerto No. 4 in E flat K495: II. Romanc...  0.063751    3\n",
       "3          Catch You Baby (Steve Pitron & Max Sanna Radio...  0.059145    4\n",
       "4                                    Revelry - Kings Of Leon  0.054947    5\n",
       "5                                               Undo - Björk  0.054057    6\n",
       "6                            OMG - Usher featuring will.i.am  0.052382    7\n",
       "7          Billionaire [feat. Bruno Mars]  (Explicit Albu...  0.052007    8\n",
       "8                                   Sehr kosmisch - Harmonia  0.051036    9\n",
       "9          Pursuit Of Happiness (nightmare) - Kid Cudi / ...  0.049951   10"
      ]
     },
     "execution_count": 146,
     "metadata": {},
     "output_type": "execute_result"
    }
   ],
   "source": [
    "# give related songs based on the artist names\n",
    "\n",
    "ir.get_similar_items(['Représente - Alliance Ethnik', 'Secrets - OneRepublic'])"
   ]
  },
  {
   "cell_type": "markdown",
   "metadata": {},
   "source": [
    "#### Implementing the Collaborative filtering using the KNN algorithm method"
   ]
  },
  {
   "cell_type": "code",
   "execution_count": 149,
   "metadata": {},
   "outputs": [],
   "source": [
    "### importing the necessary files for implementing the KNN algorithm\n",
    "\n",
    "from scipy.sparse import csr_matrix\n",
    "import knn_recommender as knn_recommender"
   ]
  },
  {
   "cell_type": "markdown",
   "metadata": {},
   "source": [
    "#### Preparing the data for further prediction using KNN"
   ]
  },
  {
   "cell_type": "code",
   "execution_count": 150,
   "metadata": {},
   "outputs": [],
   "source": [
    "### Let us check how many songs a user listen an average?\n",
    "\n",
    "song_user = df.groupby('user_id')['song_id'].count()"
   ]
  },
  {
   "cell_type": "code",
   "execution_count": 151,
   "metadata": {},
   "outputs": [
    {
     "name": "stdout",
     "output_type": "stream",
     "text": [
      "A user listens to an average of 13.27668613913967 songs\n"
     ]
    }
   ],
   "source": [
    "### Checking an average a user listen to a song\n",
    "\n",
    "print(f\"A user listens to an average of {np.mean(song_user)} songs\")"
   ]
  },
  {
   "cell_type": "code",
   "execution_count": 152,
   "metadata": {},
   "outputs": [
    {
     "name": "stdout",
     "output_type": "stream",
     "text": [
      "A user listens to an average of 11.0 songs, with minimum 5 and maximum 48 songs\n"
     ]
    }
   ],
   "source": [
    "### Checking the songs listen count of user with min and max of songs\n",
    "\n",
    "print(f\"A user listens to an average of {np.median(song_user)} songs, with minimum {np.min(song_user)} and maximum {np.max(song_user)} songs\")"
   ]
  },
  {
   "cell_type": "code",
   "execution_count": 153,
   "metadata": {},
   "outputs": [
    {
     "name": "stdout",
     "output_type": "stream",
     "text": [
      "There are 25922 unique songs in the dataset\n"
     ]
    }
   ],
   "source": [
    "#Unique songs\n",
    "\n",
    "unique_songs = df['song_id'].unique().shape[0]\n",
    "print(f\"There are {unique_songs} unique songs in the dataset\")"
   ]
  },
  {
   "cell_type": "code",
   "execution_count": 154,
   "metadata": {},
   "outputs": [
    {
     "name": "stdout",
     "output_type": "stream",
     "text": [
      "There are 3766 unique users in the dataset\n"
     ]
    }
   ],
   "source": [
    "#Unique users\n",
    "\n",
    "unique_users = df['user_id'].unique().shape[0]\n",
    "print(f\"There are {unique_users} unique users in the dataset\")"
   ]
  },
  {
   "cell_type": "code",
   "execution_count": 155,
   "metadata": {},
   "outputs": [],
   "source": [
    "# Get how many values should it be if all songs have been listen by all users\n",
    "\n",
    "values_matrix = unique_users * unique_songs"
   ]
  },
  {
   "cell_type": "code",
   "execution_count": 156,
   "metadata": {},
   "outputs": [],
   "source": [
    "# Substract the total values with the actural shape of the DataFrame songs\n",
    "\n",
    "zero_values_matrix = values_matrix - df.shape[0]"
   ]
  },
  {
   "cell_type": "code",
   "execution_count": 157,
   "metadata": {},
   "outputs": [
    {
     "name": "stdout",
     "output_type": "stream",
     "text": [
      "The matrix of users x songs has 97572252 values that are zero\n"
     ]
    }
   ],
   "source": [
    "print(f\"The matrix of users x songs has {zero_values_matrix} values that are zero\")"
   ]
  },
  {
   "cell_type": "code",
   "execution_count": 158,
   "metadata": {},
   "outputs": [],
   "source": [
    "# Get users which have listen to at least 16 songs\n",
    "\n",
    "song_ten_id = song_user[song_user > 16].index.to_list()"
   ]
  },
  {
   "cell_type": "code",
   "execution_count": 159,
   "metadata": {},
   "outputs": [],
   "source": [
    "# Filtered the dataset to keep only those users with more than 16 listened\n",
    "\n",
    "df_song_id_more_ten = df[df['user_id'].isin(song_ten_id)].reset_index(drop=True)"
   ]
  },
  {
   "cell_type": "markdown",
   "metadata": {},
   "source": [
    "We need now to work with a scipy-sparse matrix to avoid overflow and wasted memory. For that purpose, we'll use the csr_matrix function from scipy.sparse."
   ]
  },
  {
   "cell_type": "code",
   "execution_count": 160,
   "metadata": {},
   "outputs": [],
   "source": [
    "# convert the dataframe into a pivot table\n",
    "df_songs_features = df_song_id_more_ten.pivot(index='song_id', columns='user_id', values='Freq').fillna(0)\n",
    "\n",
    "# obtain a sparse matrix\n",
    "mat_songs_features = csr_matrix(df_songs_features.values)"
   ]
  },
  {
   "cell_type": "code",
   "execution_count": 161,
   "metadata": {},
   "outputs": [
    {
     "data": {
      "text/html": [
       "<div>\n",
       "<style scoped>\n",
       "    .dataframe tbody tr th:only-of-type {\n",
       "        vertical-align: middle;\n",
       "    }\n",
       "\n",
       "    .dataframe tbody tr th {\n",
       "        vertical-align: top;\n",
       "    }\n",
       "\n",
       "    .dataframe thead th {\n",
       "        text-align: right;\n",
       "    }\n",
       "</style>\n",
       "<table border=\"1\" class=\"dataframe\">\n",
       "  <thead>\n",
       "    <tr style=\"text-align: right;\">\n",
       "      <th>user_id</th>\n",
       "      <th>0011d5f4fb02ff276763d385c3f2ded2b00ad94a</th>\n",
       "      <th>003998bc33cddeba02428a43391c6716e523c8f7</th>\n",
       "      <th>00587ee69421cb6abc50898714c23583f1f4e230</th>\n",
       "      <th>006d3c79b9ed677280f8ddbc422d7b0fedd6d1fa</th>\n",
       "      <th>00803872fb1f0d39ecd256f4a247b7cbad24adbc</th>\n",
       "      <th>0093ea2ad5eebbfe7635a70909b7988d1b340a5a</th>\n",
       "      <th>0107197bd5e2521cfa1cfde3faf9a6b39e8ba9e3</th>\n",
       "      <th>016ec728b1aaa73da066447563527a938283689d</th>\n",
       "      <th>019609d3709369e5873379957dd2600f23ae6c06</th>\n",
       "      <th>02caaa0349f5d7aa54a6a262308a4ada43ad46d2</th>\n",
       "      <th>...</th>\n",
       "      <th>fe0eaa62792ed707620017a0fb97708e4b5b9b2e</th>\n",
       "      <th>fe689955bd257be982038af9c5311ea10b8425dc</th>\n",
       "      <th>fe72da2659f236126c9fb8eeccc6d8c48b9cedcf</th>\n",
       "      <th>fee9ab51f26ac7d3ae5f8b812ba8128385533963</th>\n",
       "      <th>ff022f15bf7cb8fb7e9d319cc03229b62a8c4a4a</th>\n",
       "      <th>ff14ed610f9ef040b7a7bf67e6646aee49672ca5</th>\n",
       "      <th>ff3af695709783f8242105de952741d55f3970df</th>\n",
       "      <th>ff96171f15f41e020b329af498d184c464f6cee7</th>\n",
       "      <th>ffca2f5069c381b20171dc14404b2e5e1141692b</th>\n",
       "      <th>ffe98099df91d5ff4a9ab02f58bb9dc87b278cb2</th>\n",
       "    </tr>\n",
       "    <tr>\n",
       "      <th>song_id</th>\n",
       "      <th></th>\n",
       "      <th></th>\n",
       "      <th></th>\n",
       "      <th></th>\n",
       "      <th></th>\n",
       "      <th></th>\n",
       "      <th></th>\n",
       "      <th></th>\n",
       "      <th></th>\n",
       "      <th></th>\n",
       "      <th></th>\n",
       "      <th></th>\n",
       "      <th></th>\n",
       "      <th></th>\n",
       "      <th></th>\n",
       "      <th></th>\n",
       "      <th></th>\n",
       "      <th></th>\n",
       "      <th></th>\n",
       "      <th></th>\n",
       "      <th></th>\n",
       "    </tr>\n",
       "  </thead>\n",
       "  <tbody>\n",
       "    <tr>\n",
       "      <th>SOAACPJ12A81C21360</th>\n",
       "      <td>0.0</td>\n",
       "      <td>0.0</td>\n",
       "      <td>0.0</td>\n",
       "      <td>0.0</td>\n",
       "      <td>0.0</td>\n",
       "      <td>0.0</td>\n",
       "      <td>0.0</td>\n",
       "      <td>0.0</td>\n",
       "      <td>0.0</td>\n",
       "      <td>0.0</td>\n",
       "      <td>...</td>\n",
       "      <td>0.0</td>\n",
       "      <td>0.0</td>\n",
       "      <td>0.0</td>\n",
       "      <td>0.0</td>\n",
       "      <td>0.0</td>\n",
       "      <td>0.0</td>\n",
       "      <td>0.0</td>\n",
       "      <td>0.0</td>\n",
       "      <td>0.0</td>\n",
       "      <td>0.0</td>\n",
       "    </tr>\n",
       "    <tr>\n",
       "      <th>SOAACSG12AB018DC80</th>\n",
       "      <td>0.0</td>\n",
       "      <td>0.0</td>\n",
       "      <td>0.0</td>\n",
       "      <td>0.0</td>\n",
       "      <td>0.0</td>\n",
       "      <td>0.0</td>\n",
       "      <td>0.0</td>\n",
       "      <td>0.0</td>\n",
       "      <td>0.0</td>\n",
       "      <td>0.0</td>\n",
       "      <td>...</td>\n",
       "      <td>0.0</td>\n",
       "      <td>0.0</td>\n",
       "      <td>0.0</td>\n",
       "      <td>0.0</td>\n",
       "      <td>0.0</td>\n",
       "      <td>0.0</td>\n",
       "      <td>0.0</td>\n",
       "      <td>0.0</td>\n",
       "      <td>0.0</td>\n",
       "      <td>0.0</td>\n",
       "    </tr>\n",
       "    <tr>\n",
       "      <th>SOAAFAC12A67ADF7EB</th>\n",
       "      <td>0.0</td>\n",
       "      <td>0.0</td>\n",
       "      <td>0.0</td>\n",
       "      <td>0.0</td>\n",
       "      <td>0.0</td>\n",
       "      <td>0.0</td>\n",
       "      <td>0.0</td>\n",
       "      <td>0.0</td>\n",
       "      <td>0.0</td>\n",
       "      <td>0.0</td>\n",
       "      <td>...</td>\n",
       "      <td>0.0</td>\n",
       "      <td>0.0</td>\n",
       "      <td>0.0</td>\n",
       "      <td>0.0</td>\n",
       "      <td>0.0</td>\n",
       "      <td>0.0</td>\n",
       "      <td>0.0</td>\n",
       "      <td>0.0</td>\n",
       "      <td>0.0</td>\n",
       "      <td>0.0</td>\n",
       "    </tr>\n",
       "    <tr>\n",
       "      <th>SOAAFYH12A8C13717A</th>\n",
       "      <td>0.0</td>\n",
       "      <td>0.0</td>\n",
       "      <td>0.0</td>\n",
       "      <td>0.0</td>\n",
       "      <td>0.0</td>\n",
       "      <td>0.0</td>\n",
       "      <td>0.0</td>\n",
       "      <td>0.0</td>\n",
       "      <td>0.0</td>\n",
       "      <td>0.0</td>\n",
       "      <td>...</td>\n",
       "      <td>0.0</td>\n",
       "      <td>0.0</td>\n",
       "      <td>0.0</td>\n",
       "      <td>0.0</td>\n",
       "      <td>0.0</td>\n",
       "      <td>0.0</td>\n",
       "      <td>0.0</td>\n",
       "      <td>0.0</td>\n",
       "      <td>0.0</td>\n",
       "      <td>0.0</td>\n",
       "    </tr>\n",
       "    <tr>\n",
       "      <th>SOAAGYY12A6D4F705E</th>\n",
       "      <td>0.0</td>\n",
       "      <td>0.0</td>\n",
       "      <td>0.0</td>\n",
       "      <td>0.0</td>\n",
       "      <td>0.0</td>\n",
       "      <td>0.0</td>\n",
       "      <td>0.0</td>\n",
       "      <td>0.0</td>\n",
       "      <td>0.0</td>\n",
       "      <td>0.0</td>\n",
       "      <td>...</td>\n",
       "      <td>0.0</td>\n",
       "      <td>0.0</td>\n",
       "      <td>0.0</td>\n",
       "      <td>0.0</td>\n",
       "      <td>0.0</td>\n",
       "      <td>0.0</td>\n",
       "      <td>0.0</td>\n",
       "      <td>0.0</td>\n",
       "      <td>0.0</td>\n",
       "      <td>0.0</td>\n",
       "    </tr>\n",
       "  </tbody>\n",
       "</table>\n",
       "<p>5 rows × 1032 columns</p>\n",
       "</div>"
      ],
      "text/plain": [
       "user_id             0011d5f4fb02ff276763d385c3f2ded2b00ad94a  \\\n",
       "song_id                                                        \n",
       "SOAACPJ12A81C21360                                       0.0   \n",
       "SOAACSG12AB018DC80                                       0.0   \n",
       "SOAAFAC12A67ADF7EB                                       0.0   \n",
       "SOAAFYH12A8C13717A                                       0.0   \n",
       "SOAAGYY12A6D4F705E                                       0.0   \n",
       "\n",
       "user_id             003998bc33cddeba02428a43391c6716e523c8f7  \\\n",
       "song_id                                                        \n",
       "SOAACPJ12A81C21360                                       0.0   \n",
       "SOAACSG12AB018DC80                                       0.0   \n",
       "SOAAFAC12A67ADF7EB                                       0.0   \n",
       "SOAAFYH12A8C13717A                                       0.0   \n",
       "SOAAGYY12A6D4F705E                                       0.0   \n",
       "\n",
       "user_id             00587ee69421cb6abc50898714c23583f1f4e230  \\\n",
       "song_id                                                        \n",
       "SOAACPJ12A81C21360                                       0.0   \n",
       "SOAACSG12AB018DC80                                       0.0   \n",
       "SOAAFAC12A67ADF7EB                                       0.0   \n",
       "SOAAFYH12A8C13717A                                       0.0   \n",
       "SOAAGYY12A6D4F705E                                       0.0   \n",
       "\n",
       "user_id             006d3c79b9ed677280f8ddbc422d7b0fedd6d1fa  \\\n",
       "song_id                                                        \n",
       "SOAACPJ12A81C21360                                       0.0   \n",
       "SOAACSG12AB018DC80                                       0.0   \n",
       "SOAAFAC12A67ADF7EB                                       0.0   \n",
       "SOAAFYH12A8C13717A                                       0.0   \n",
       "SOAAGYY12A6D4F705E                                       0.0   \n",
       "\n",
       "user_id             00803872fb1f0d39ecd256f4a247b7cbad24adbc  \\\n",
       "song_id                                                        \n",
       "SOAACPJ12A81C21360                                       0.0   \n",
       "SOAACSG12AB018DC80                                       0.0   \n",
       "SOAAFAC12A67ADF7EB                                       0.0   \n",
       "SOAAFYH12A8C13717A                                       0.0   \n",
       "SOAAGYY12A6D4F705E                                       0.0   \n",
       "\n",
       "user_id             0093ea2ad5eebbfe7635a70909b7988d1b340a5a  \\\n",
       "song_id                                                        \n",
       "SOAACPJ12A81C21360                                       0.0   \n",
       "SOAACSG12AB018DC80                                       0.0   \n",
       "SOAAFAC12A67ADF7EB                                       0.0   \n",
       "SOAAFYH12A8C13717A                                       0.0   \n",
       "SOAAGYY12A6D4F705E                                       0.0   \n",
       "\n",
       "user_id             0107197bd5e2521cfa1cfde3faf9a6b39e8ba9e3  \\\n",
       "song_id                                                        \n",
       "SOAACPJ12A81C21360                                       0.0   \n",
       "SOAACSG12AB018DC80                                       0.0   \n",
       "SOAAFAC12A67ADF7EB                                       0.0   \n",
       "SOAAFYH12A8C13717A                                       0.0   \n",
       "SOAAGYY12A6D4F705E                                       0.0   \n",
       "\n",
       "user_id             016ec728b1aaa73da066447563527a938283689d  \\\n",
       "song_id                                                        \n",
       "SOAACPJ12A81C21360                                       0.0   \n",
       "SOAACSG12AB018DC80                                       0.0   \n",
       "SOAAFAC12A67ADF7EB                                       0.0   \n",
       "SOAAFYH12A8C13717A                                       0.0   \n",
       "SOAAGYY12A6D4F705E                                       0.0   \n",
       "\n",
       "user_id             019609d3709369e5873379957dd2600f23ae6c06  \\\n",
       "song_id                                                        \n",
       "SOAACPJ12A81C21360                                       0.0   \n",
       "SOAACSG12AB018DC80                                       0.0   \n",
       "SOAAFAC12A67ADF7EB                                       0.0   \n",
       "SOAAFYH12A8C13717A                                       0.0   \n",
       "SOAAGYY12A6D4F705E                                       0.0   \n",
       "\n",
       "user_id             02caaa0349f5d7aa54a6a262308a4ada43ad46d2  ...  \\\n",
       "song_id                                                       ...   \n",
       "SOAACPJ12A81C21360                                       0.0  ...   \n",
       "SOAACSG12AB018DC80                                       0.0  ...   \n",
       "SOAAFAC12A67ADF7EB                                       0.0  ...   \n",
       "SOAAFYH12A8C13717A                                       0.0  ...   \n",
       "SOAAGYY12A6D4F705E                                       0.0  ...   \n",
       "\n",
       "user_id             fe0eaa62792ed707620017a0fb97708e4b5b9b2e  \\\n",
       "song_id                                                        \n",
       "SOAACPJ12A81C21360                                       0.0   \n",
       "SOAACSG12AB018DC80                                       0.0   \n",
       "SOAAFAC12A67ADF7EB                                       0.0   \n",
       "SOAAFYH12A8C13717A                                       0.0   \n",
       "SOAAGYY12A6D4F705E                                       0.0   \n",
       "\n",
       "user_id             fe689955bd257be982038af9c5311ea10b8425dc  \\\n",
       "song_id                                                        \n",
       "SOAACPJ12A81C21360                                       0.0   \n",
       "SOAACSG12AB018DC80                                       0.0   \n",
       "SOAAFAC12A67ADF7EB                                       0.0   \n",
       "SOAAFYH12A8C13717A                                       0.0   \n",
       "SOAAGYY12A6D4F705E                                       0.0   \n",
       "\n",
       "user_id             fe72da2659f236126c9fb8eeccc6d8c48b9cedcf  \\\n",
       "song_id                                                        \n",
       "SOAACPJ12A81C21360                                       0.0   \n",
       "SOAACSG12AB018DC80                                       0.0   \n",
       "SOAAFAC12A67ADF7EB                                       0.0   \n",
       "SOAAFYH12A8C13717A                                       0.0   \n",
       "SOAAGYY12A6D4F705E                                       0.0   \n",
       "\n",
       "user_id             fee9ab51f26ac7d3ae5f8b812ba8128385533963  \\\n",
       "song_id                                                        \n",
       "SOAACPJ12A81C21360                                       0.0   \n",
       "SOAACSG12AB018DC80                                       0.0   \n",
       "SOAAFAC12A67ADF7EB                                       0.0   \n",
       "SOAAFYH12A8C13717A                                       0.0   \n",
       "SOAAGYY12A6D4F705E                                       0.0   \n",
       "\n",
       "user_id             ff022f15bf7cb8fb7e9d319cc03229b62a8c4a4a  \\\n",
       "song_id                                                        \n",
       "SOAACPJ12A81C21360                                       0.0   \n",
       "SOAACSG12AB018DC80                                       0.0   \n",
       "SOAAFAC12A67ADF7EB                                       0.0   \n",
       "SOAAFYH12A8C13717A                                       0.0   \n",
       "SOAAGYY12A6D4F705E                                       0.0   \n",
       "\n",
       "user_id             ff14ed610f9ef040b7a7bf67e6646aee49672ca5  \\\n",
       "song_id                                                        \n",
       "SOAACPJ12A81C21360                                       0.0   \n",
       "SOAACSG12AB018DC80                                       0.0   \n",
       "SOAAFAC12A67ADF7EB                                       0.0   \n",
       "SOAAFYH12A8C13717A                                       0.0   \n",
       "SOAAGYY12A6D4F705E                                       0.0   \n",
       "\n",
       "user_id             ff3af695709783f8242105de952741d55f3970df  \\\n",
       "song_id                                                        \n",
       "SOAACPJ12A81C21360                                       0.0   \n",
       "SOAACSG12AB018DC80                                       0.0   \n",
       "SOAAFAC12A67ADF7EB                                       0.0   \n",
       "SOAAFYH12A8C13717A                                       0.0   \n",
       "SOAAGYY12A6D4F705E                                       0.0   \n",
       "\n",
       "user_id             ff96171f15f41e020b329af498d184c464f6cee7  \\\n",
       "song_id                                                        \n",
       "SOAACPJ12A81C21360                                       0.0   \n",
       "SOAACSG12AB018DC80                                       0.0   \n",
       "SOAAFAC12A67ADF7EB                                       0.0   \n",
       "SOAAFYH12A8C13717A                                       0.0   \n",
       "SOAAGYY12A6D4F705E                                       0.0   \n",
       "\n",
       "user_id             ffca2f5069c381b20171dc14404b2e5e1141692b  \\\n",
       "song_id                                                        \n",
       "SOAACPJ12A81C21360                                       0.0   \n",
       "SOAACSG12AB018DC80                                       0.0   \n",
       "SOAAFAC12A67ADF7EB                                       0.0   \n",
       "SOAAFYH12A8C13717A                                       0.0   \n",
       "SOAAGYY12A6D4F705E                                       0.0   \n",
       "\n",
       "user_id             ffe98099df91d5ff4a9ab02f58bb9dc87b278cb2  \n",
       "song_id                                                       \n",
       "SOAACPJ12A81C21360                                       0.0  \n",
       "SOAACSG12AB018DC80                                       0.0  \n",
       "SOAAFAC12A67ADF7EB                                       0.0  \n",
       "SOAAFYH12A8C13717A                                       0.0  \n",
       "SOAAGYY12A6D4F705E                                       0.0  \n",
       "\n",
       "[5 rows x 1032 columns]"
      ]
     },
     "execution_count": 161,
     "metadata": {},
     "output_type": "execute_result"
    }
   ],
   "source": [
    "df_songs_features.head()"
   ]
  },
  {
   "cell_type": "code",
   "execution_count": 162,
   "metadata": {},
   "outputs": [],
   "source": [
    "df_unique_songs = df.drop_duplicates(subset=['song_id']).reset_index(drop=True)[['song_id','song_name']]"
   ]
  },
  {
   "cell_type": "code",
   "execution_count": 163,
   "metadata": {},
   "outputs": [],
   "source": [
    "decode_id_song = {\n",
    "    song: i for i, song in \n",
    "    enumerate(list(df_unique_songs.set_index('song_id').loc[df_songs_features.index].song_name))\n",
    "}"
   ]
  },
  {
   "cell_type": "markdown",
   "metadata": {},
   "source": [
    "#### Model and recommendations\n",
    "So, we know that we want to use the model to predict songs. For that, we'll use the Recommender class wrote in the knn_recommender file."
   ]
  },
  {
   "cell_type": "code",
   "execution_count": 164,
   "metadata": {},
   "outputs": [],
   "source": [
    "from knn_recommender import Recommender\n",
    "model = Recommender(metric='cosine', algorithm='brute', k=20, data=mat_songs_features, decode_id_song=decode_id_song)"
   ]
  },
  {
   "cell_type": "code",
   "execution_count": 165,
   "metadata": {},
   "outputs": [],
   "source": [
    "song = \"Représente\""
   ]
  },
  {
   "cell_type": "code",
   "execution_count": 166,
   "metadata": {},
   "outputs": [
    {
     "name": "stdout",
     "output_type": "stream",
     "text": [
      "Starting the recommendation process for Représente ...\n",
      "... Done\n"
     ]
    }
   ],
   "source": [
    "new_recommendations = model.make_recommendation(new_song=song, n_recommendations=10)\n"
   ]
  },
  {
   "cell_type": "code",
   "execution_count": 167,
   "metadata": {},
   "outputs": [
    {
     "name": "stdout",
     "output_type": "stream",
     "text": [
      "The recommendations for Représente song are:\n"
     ]
    },
    {
     "data": {
      "text/plain": [
       "['Bigger Boys and Stolen Sweethearts',\n",
       " 'Only Superstition',\n",
       " 'La Poupée',\n",
       " 'Mundian To Back Me',\n",
       " 'U Make Me Wanna',\n",
       " 'Mony Mony',\n",
       " 'Number One (Explicit Album Version) (Feat. Kanye West)',\n",
       " 'Peace Sign / Index Down [feat. Busta Rhymes] (Explicit Album Version)',\n",
       " 'Damien III',\n",
       " 'The Gift']"
      ]
     },
     "execution_count": 167,
     "metadata": {},
     "output_type": "execute_result"
    }
   ],
   "source": [
    "print(f\"The recommendations for {song} song are:\")\n",
    "new_recommendations"
   ]
  },
  {
   "cell_type": "markdown",
   "metadata": {},
   "source": [
    "#### Applying the content based filtering for recommending the songs "
   ]
  },
  {
   "cell_type": "markdown",
   "metadata": {},
   "source": [
    "#### importing necessary libraries for content based filtering"
   ]
  },
  {
   "cell_type": "code",
   "execution_count": 169,
   "metadata": {},
   "outputs": [],
   "source": [
    "from typing import List, Dict\n",
    "from sklearn.feature_extraction.text import TfidfVectorizer\n",
    "from sklearn.metrics.pairwise import cosine_similarity"
   ]
  },
  {
   "cell_type": "markdown",
   "metadata": {},
   "source": [
    "Here we are using the TfidfVectorizer and cosine_similarity for extracting the keyword from our data "
   ]
  },
  {
   "cell_type": "code",
   "execution_count": 170,
   "metadata": {},
   "outputs": [
    {
     "data": {
      "text/html": [
       "<div>\n",
       "<style scoped>\n",
       "    .dataframe tbody tr th:only-of-type {\n",
       "        vertical-align: middle;\n",
       "    }\n",
       "\n",
       "    .dataframe tbody tr th {\n",
       "        vertical-align: top;\n",
       "    }\n",
       "\n",
       "    .dataframe thead th {\n",
       "        text-align: right;\n",
       "    }\n",
       "</style>\n",
       "<table border=\"1\" class=\"dataframe\">\n",
       "  <thead>\n",
       "    <tr style=\"text-align: right;\">\n",
       "      <th></th>\n",
       "      <th>index</th>\n",
       "      <th>user_id</th>\n",
       "      <th>song_id</th>\n",
       "      <th>Freq</th>\n",
       "      <th>Artist_name</th>\n",
       "      <th>song_name</th>\n",
       "      <th>song</th>\n",
       "    </tr>\n",
       "  </thead>\n",
       "  <tbody>\n",
       "    <tr>\n",
       "      <th>0</th>\n",
       "      <td>0</td>\n",
       "      <td>fd50c4007b68a3737fe052d5a4f78ce8aa117f3d</td>\n",
       "      <td>SOBONKR12A58A7A7E0</td>\n",
       "      <td>1</td>\n",
       "      <td>Dwight Yoakam</td>\n",
       "      <td>You're The One</td>\n",
       "      <td>You're The One - Dwight Yoakam</td>\n",
       "    </tr>\n",
       "    <tr>\n",
       "      <th>1</th>\n",
       "      <td>1</td>\n",
       "      <td>fd50c4007b68a3737fe052d5a4f78ce8aa117f3d</td>\n",
       "      <td>SOEGIYH12A6D4FC0E3</td>\n",
       "      <td>1</td>\n",
       "      <td>Barry Tuckwell/Academy of St Martin-in-the-Fie...</td>\n",
       "      <td>Horn Concerto No. 4 in E flat K495: II. Romanc...</td>\n",
       "      <td>Horn Concerto No. 4 in E flat K495: II. Romanc...</td>\n",
       "    </tr>\n",
       "    <tr>\n",
       "      <th>2</th>\n",
       "      <td>2</td>\n",
       "      <td>fd50c4007b68a3737fe052d5a4f78ce8aa117f3d</td>\n",
       "      <td>SOFLJQZ12A6D4FADA6</td>\n",
       "      <td>1</td>\n",
       "      <td>Cartola</td>\n",
       "      <td>Tive Sim</td>\n",
       "      <td>Tive Sim - Cartola</td>\n",
       "    </tr>\n",
       "    <tr>\n",
       "      <th>3</th>\n",
       "      <td>3</td>\n",
       "      <td>fd50c4007b68a3737fe052d5a4f78ce8aa117f3d</td>\n",
       "      <td>SOHTKMO12AB01843B0</td>\n",
       "      <td>1</td>\n",
       "      <td>Lonnie Gordon</td>\n",
       "      <td>Catch You Baby (Steve Pitron &amp; Max Sanna Radio...</td>\n",
       "      <td>Catch You Baby (Steve Pitron &amp; Max Sanna Radio...</td>\n",
       "    </tr>\n",
       "    <tr>\n",
       "      <th>4</th>\n",
       "      <td>4</td>\n",
       "      <td>fd50c4007b68a3737fe052d5a4f78ce8aa117f3d</td>\n",
       "      <td>SODQZCY12A6D4F9D11</td>\n",
       "      <td>1</td>\n",
       "      <td>Miguel Calo</td>\n",
       "      <td>El Cuatrero</td>\n",
       "      <td>El Cuatrero - Miguel Calo</td>\n",
       "    </tr>\n",
       "  </tbody>\n",
       "</table>\n",
       "</div>"
      ],
      "text/plain": [
       "   index                                   user_id             song_id  Freq  \\\n",
       "0      0  fd50c4007b68a3737fe052d5a4f78ce8aa117f3d  SOBONKR12A58A7A7E0     1   \n",
       "1      1  fd50c4007b68a3737fe052d5a4f78ce8aa117f3d  SOEGIYH12A6D4FC0E3     1   \n",
       "2      2  fd50c4007b68a3737fe052d5a4f78ce8aa117f3d  SOFLJQZ12A6D4FADA6     1   \n",
       "3      3  fd50c4007b68a3737fe052d5a4f78ce8aa117f3d  SOHTKMO12AB01843B0     1   \n",
       "4      4  fd50c4007b68a3737fe052d5a4f78ce8aa117f3d  SODQZCY12A6D4F9D11     1   \n",
       "\n",
       "                                         Artist_name  \\\n",
       "0                                      Dwight Yoakam   \n",
       "1  Barry Tuckwell/Academy of St Martin-in-the-Fie...   \n",
       "2                                            Cartola   \n",
       "3                                      Lonnie Gordon   \n",
       "4                                        Miguel Calo   \n",
       "\n",
       "                                           song_name  \\\n",
       "0                                     You're The One   \n",
       "1  Horn Concerto No. 4 in E flat K495: II. Romanc...   \n",
       "2                                           Tive Sim   \n",
       "3  Catch You Baby (Steve Pitron & Max Sanna Radio...   \n",
       "4                                        El Cuatrero   \n",
       "\n",
       "                                                song  \n",
       "0                     You're The One - Dwight Yoakam  \n",
       "1  Horn Concerto No. 4 in E flat K495: II. Romanc...  \n",
       "2                                 Tive Sim - Cartola  \n",
       "3  Catch You Baby (Steve Pitron & Max Sanna Radio...  \n",
       "4                          El Cuatrero - Miguel Calo  "
      ]
     },
     "execution_count": 170,
     "metadata": {},
     "output_type": "execute_result"
    }
   ],
   "source": [
    "df.head()"
   ]
  },
  {
   "cell_type": "code",
   "execution_count": 171,
   "metadata": {},
   "outputs": [
    {
     "data": {
      "text/plain": [
       "(50000, 7)"
      ]
     },
     "execution_count": 171,
     "metadata": {},
     "output_type": "execute_result"
    }
   ],
   "source": [
    "df.shape"
   ]
  },
  {
   "cell_type": "code",
   "execution_count": 172,
   "metadata": {},
   "outputs": [],
   "source": [
    "df=df.drop('index',axis=1)"
   ]
  },
  {
   "cell_type": "code",
   "execution_count": 173,
   "metadata": {},
   "outputs": [
    {
     "data": {
      "text/html": [
       "<div>\n",
       "<style scoped>\n",
       "    .dataframe tbody tr th:only-of-type {\n",
       "        vertical-align: middle;\n",
       "    }\n",
       "\n",
       "    .dataframe tbody tr th {\n",
       "        vertical-align: top;\n",
       "    }\n",
       "\n",
       "    .dataframe thead th {\n",
       "        text-align: right;\n",
       "    }\n",
       "</style>\n",
       "<table border=\"1\" class=\"dataframe\">\n",
       "  <thead>\n",
       "    <tr style=\"text-align: right;\">\n",
       "      <th></th>\n",
       "      <th>user_id</th>\n",
       "      <th>song_id</th>\n",
       "      <th>Freq</th>\n",
       "      <th>Artist_name</th>\n",
       "      <th>song_name</th>\n",
       "      <th>song</th>\n",
       "    </tr>\n",
       "  </thead>\n",
       "  <tbody>\n",
       "    <tr>\n",
       "      <th>0</th>\n",
       "      <td>fd50c4007b68a3737fe052d5a4f78ce8aa117f3d</td>\n",
       "      <td>SOBONKR12A58A7A7E0</td>\n",
       "      <td>1</td>\n",
       "      <td>Dwight Yoakam</td>\n",
       "      <td>You're The One</td>\n",
       "      <td>You're The One - Dwight Yoakam</td>\n",
       "    </tr>\n",
       "    <tr>\n",
       "      <th>1</th>\n",
       "      <td>fd50c4007b68a3737fe052d5a4f78ce8aa117f3d</td>\n",
       "      <td>SOEGIYH12A6D4FC0E3</td>\n",
       "      <td>1</td>\n",
       "      <td>Barry Tuckwell/Academy of St Martin-in-the-Fie...</td>\n",
       "      <td>Horn Concerto No. 4 in E flat K495: II. Romanc...</td>\n",
       "      <td>Horn Concerto No. 4 in E flat K495: II. Romanc...</td>\n",
       "    </tr>\n",
       "    <tr>\n",
       "      <th>2</th>\n",
       "      <td>fd50c4007b68a3737fe052d5a4f78ce8aa117f3d</td>\n",
       "      <td>SOFLJQZ12A6D4FADA6</td>\n",
       "      <td>1</td>\n",
       "      <td>Cartola</td>\n",
       "      <td>Tive Sim</td>\n",
       "      <td>Tive Sim - Cartola</td>\n",
       "    </tr>\n",
       "    <tr>\n",
       "      <th>3</th>\n",
       "      <td>fd50c4007b68a3737fe052d5a4f78ce8aa117f3d</td>\n",
       "      <td>SOHTKMO12AB01843B0</td>\n",
       "      <td>1</td>\n",
       "      <td>Lonnie Gordon</td>\n",
       "      <td>Catch You Baby (Steve Pitron &amp; Max Sanna Radio...</td>\n",
       "      <td>Catch You Baby (Steve Pitron &amp; Max Sanna Radio...</td>\n",
       "    </tr>\n",
       "    <tr>\n",
       "      <th>4</th>\n",
       "      <td>fd50c4007b68a3737fe052d5a4f78ce8aa117f3d</td>\n",
       "      <td>SODQZCY12A6D4F9D11</td>\n",
       "      <td>1</td>\n",
       "      <td>Miguel Calo</td>\n",
       "      <td>El Cuatrero</td>\n",
       "      <td>El Cuatrero - Miguel Calo</td>\n",
       "    </tr>\n",
       "  </tbody>\n",
       "</table>\n",
       "</div>"
      ],
      "text/plain": [
       "                                    user_id             song_id  Freq  \\\n",
       "0  fd50c4007b68a3737fe052d5a4f78ce8aa117f3d  SOBONKR12A58A7A7E0     1   \n",
       "1  fd50c4007b68a3737fe052d5a4f78ce8aa117f3d  SOEGIYH12A6D4FC0E3     1   \n",
       "2  fd50c4007b68a3737fe052d5a4f78ce8aa117f3d  SOFLJQZ12A6D4FADA6     1   \n",
       "3  fd50c4007b68a3737fe052d5a4f78ce8aa117f3d  SOHTKMO12AB01843B0     1   \n",
       "4  fd50c4007b68a3737fe052d5a4f78ce8aa117f3d  SODQZCY12A6D4F9D11     1   \n",
       "\n",
       "                                         Artist_name  \\\n",
       "0                                      Dwight Yoakam   \n",
       "1  Barry Tuckwell/Academy of St Martin-in-the-Fie...   \n",
       "2                                            Cartola   \n",
       "3                                      Lonnie Gordon   \n",
       "4                                        Miguel Calo   \n",
       "\n",
       "                                           song_name  \\\n",
       "0                                     You're The One   \n",
       "1  Horn Concerto No. 4 in E flat K495: II. Romanc...   \n",
       "2                                           Tive Sim   \n",
       "3  Catch You Baby (Steve Pitron & Max Sanna Radio...   \n",
       "4                                        El Cuatrero   \n",
       "\n",
       "                                                song  \n",
       "0                     You're The One - Dwight Yoakam  \n",
       "1  Horn Concerto No. 4 in E flat K495: II. Romanc...  \n",
       "2                                 Tive Sim - Cartola  \n",
       "3  Catch You Baby (Steve Pitron & Max Sanna Radio...  \n",
       "4                          El Cuatrero - Miguel Calo  "
      ]
     },
     "execution_count": 173,
     "metadata": {},
     "output_type": "execute_result"
    }
   ],
   "source": [
    "df.head()"
   ]
  },
  {
   "cell_type": "markdown",
   "metadata": {},
   "source": [
    "####  Here we are considering the 5k songs to work the content based filtering smoothly And we are dropping the freq column has it is numerical and cant be used while extracting the keyword"
   ]
  },
  {
   "cell_type": "code",
   "execution_count": 174,
   "metadata": {},
   "outputs": [],
   "source": [
    "df = df.sample(n=5000).drop('Freq',axis=1).reset_index(drop=True)"
   ]
  },
  {
   "cell_type": "markdown",
   "metadata": {},
   "source": [
    "Here we use TF-IDF vectorizerthat calculates the TF-IDF score for each song, word-by-word.We can replace this with description of the song if available"
   ]
  },
  {
   "cell_type": "code",
   "execution_count": 175,
   "metadata": {},
   "outputs": [],
   "source": [
    "tfidf = TfidfVectorizer(analyzer='word', stop_words='english')"
   ]
  },
  {
   "cell_type": "code",
   "execution_count": 176,
   "metadata": {},
   "outputs": [],
   "source": [
    "lyrics_matrix = tfidf.fit_transform(df['song'])"
   ]
  },
  {
   "cell_type": "markdown",
   "metadata": {},
   "source": [
    "We now need to calculate the similarity of one song to another. to calculate those we are going to use cosine similarity.\n",
    "\n",
    "We want to calculate the cosine similarity of each item with every other item in the dataset. So we just pass the lyrics_matrix as argument."
   ]
  },
  {
   "cell_type": "code",
   "execution_count": 177,
   "metadata": {},
   "outputs": [],
   "source": [
    "cosine_similarities = cosine_similarity(lyrics_matrix)"
   ]
  },
  {
   "cell_type": "markdown",
   "metadata": {},
   "source": [
    "Once we get the similarities, we'll store in a dictionary the names of the 50 most similar songs for each song in our dataset."
   ]
  },
  {
   "cell_type": "code",
   "execution_count": 178,
   "metadata": {},
   "outputs": [],
   "source": [
    "similarities = {}\n",
    "\n",
    "for i in range(len(cosine_similarities)):\n",
    "    \n",
    "    # Now we'll sort each element in cosine_similarities and get the indexes of the songs.\n",
    "    \n",
    "    similar_indices = cosine_similarities[i].argsort()[:-50:-1] \n",
    "    \n",
    "    # After that, we'll store in similarities each name of the 50 most similar songs.\n",
    "    # Except the first one that is the same song.\n",
    "    \n",
    "    similarities[df['song'].iloc[i]] = [(cosine_similarities[i][x], df['song'][x], df['Artist_name'][x]) for x in similar_indices][1:]"
   ]
  },
  {
   "cell_type": "markdown",
   "metadata": {},
   "source": [
    "Now We can use that similarity scores to access the most similar items and give a recommendation.\n",
    "For that, to do that task we'll define our Content based recommender class."
   ]
  },
  {
   "cell_type": "code",
   "execution_count": 179,
   "metadata": {},
   "outputs": [],
   "source": [
    "class ContentBasedRecommender:\n",
    "    def __init__(self, matrix):\n",
    "        self.matrix_similar = matrix\n",
    "\n",
    "    def _print_message(self, song, recom_song):\n",
    "        rec_items = len(recom_song)\n",
    "        \n",
    "        print(f'The {rec_items} recommended songs for {song} are:')\n",
    "        for i in range(rec_items):\n",
    "            print(f\"Number {i+1}:\")\n",
    "            print(f\"{recom_song[i][1]} by {recom_song[i][2]} with {round(recom_song[i][0], 3)} similarity score\") \n",
    "            print(\"--------------------\")\n",
    "        \n",
    "    def recommend(self, recommendation):\n",
    "        # Get song to find recommendations for\n",
    "        song = recommendation['song']\n",
    "        # Get number of songs to recommend\n",
    "        number_songs = recommendation['number_songs']\n",
    "        # Get the number of songs most similars from matrix similarities\n",
    "        recom_song = self.matrix_similar[song][:number_songs]\n",
    "        # print each item\n",
    "        self._print_message(song=song, recom_song=recom_song)"
   ]
  },
  {
   "cell_type": "code",
   "execution_count": 180,
   "metadata": {},
   "outputs": [],
   "source": [
    "recommedations = ContentBasedRecommender(similarities)"
   ]
  },
  {
   "cell_type": "code",
   "execution_count": 181,
   "metadata": {},
   "outputs": [],
   "source": [
    "recommendation = {\n",
    "    \"song\": df['song'].iloc[10],\n",
    "    \"number_songs\": 10 \n",
    "}"
   ]
  },
  {
   "cell_type": "code",
   "execution_count": 182,
   "metadata": {},
   "outputs": [
    {
     "name": "stdout",
     "output_type": "stream",
     "text": [
      "The 10 recommended songs for When I Come To You - Jonny Lang are:\n",
      "Number 1:\n",
      "Red Light - Jonny Lang by Jonny Lang with 0.674 similarity score\n",
      "--------------------\n",
      "Number 2:\n",
      "My Love Remains - Jonny Lang by Jonny Lang with 0.659 similarity score\n",
      "--------------------\n",
      "Number 3:\n",
      "Uncle Jonny - The Killers by The Killers with 0.361 similarity score\n",
      "--------------------\n",
      "Number 4:\n",
      "Come As You Are - Nirvana by Nirvana with 0.305 similarity score\n",
      "--------------------\n",
      "Number 5:\n",
      "Here I Come - Fergie by Fergie with 0.286 similarity score\n",
      "--------------------\n",
      "Number 6:\n",
      "Auld Lang Syne (Album Version) - Relient K by Relient K with 0.28 similarity score\n",
      "--------------------\n",
      "Number 7:\n",
      "I'd Come For You (Album Version) - Nickelback by Nickelback with 0.279 similarity score\n",
      "--------------------\n",
      "Number 8:\n",
      "I'd Come For You (Album Version) - Nickelback by Nickelback with 0.279 similarity score\n",
      "--------------------\n",
      "Number 9:\n",
      "Come With Me (Album Version) - DAY26 by DAY26 with 0.247 similarity score\n",
      "--------------------\n",
      "Number 10:\n",
      "How Come - Ray LaMontagne by Ray LaMontagne with 0.238 similarity score\n",
      "--------------------\n"
     ]
    }
   ],
   "source": [
    "recommedations.recommend(recommendation)"
   ]
  },
  {
   "cell_type": "markdown",
   "metadata": {},
   "source": [
    "### Hybrid Recommendation system"
   ]
  },
  {
   "cell_type": "markdown",
   "metadata": {},
   "source": [
    "Hybrid recommendation system is the most used recommendation system approach used in music and movie recommendation projects, it combines the collaborative filtering, content-based filtering, and other approaches.\n",
    "\n",
    "Hybrid approaches can be implemented in several ways: by making content-based and collaborative-based predictions separately and then combining them or by adding content-based capabilities to a collaborative-based approach (and vice versa), or by unifying the approaches into one model.\n",
    "\n",
    "Hybrid methods can also be used to overcome some of the common problems in recommender systems such as cold start and the sparsity problem.  **NetFlix** is the good example which use the hybrid recommendation systems effectively "
   ]
  },
  {
   "cell_type": "markdown",
   "metadata": {},
   "source": [
    "**This model combines the recommendations generated from content-based, collaborative filtering and SVD model. The hybrid model overcomes the shortcomings of individual models and improves the diversity of the recommendations**"
   ]
  },
  {
   "cell_type": "markdown",
   "metadata": {},
   "source": [
    "#### Importing the Necessary modules from the surprise library "
   ]
  },
  {
   "cell_type": "code",
   "execution_count": 183,
   "metadata": {},
   "outputs": [],
   "source": [
    "from surprise import SVD, BaselineOnly, SVDpp, NMF, SlopeOne, CoClustering, Reader\n",
    "from surprise import Dataset\n",
    "from surprise.model_selection import cross_validate\n",
    "from surprise.prediction_algorithms import KNNBaseline, KNNBasic, KNNWithMeans, KNNWithZScore\n",
    "from surprise import accuracy\n",
    "from surprise.model_selection import train_test_split\n",
    "from surprise import dump"
   ]
  },
  {
   "cell_type": "code",
   "execution_count": 184,
   "metadata": {},
   "outputs": [],
   "source": [
    "from sklearn.feature_extraction.text import TfidfVectorizer, CountVectorizer\n",
    "from sklearn.metrics.pairwise import linear_kernel, cosine_similarity"
   ]
  },
  {
   "cell_type": "code",
   "execution_count": 185,
   "metadata": {},
   "outputs": [],
   "source": [
    "reader = Reader()\n",
    "data = Dataset.load_from_df(song_df[['user_id','song_id','Freq']],reader)"
   ]
  },
  {
   "cell_type": "code",
   "execution_count": 186,
   "metadata": {},
   "outputs": [],
   "source": [
    "trainset, testset = train_test_split(data, test_size=0.25)"
   ]
  },
  {
   "cell_type": "code",
   "execution_count": 188,
   "metadata": {},
   "outputs": [
    {
     "data": {
      "text/plain": [
       "<surprise.prediction_algorithms.matrix_factorization.SVD at 0x1e8e83f5250>"
      ]
     },
     "execution_count": 188,
     "metadata": {},
     "output_type": "execute_result"
    }
   ],
   "source": [
    "from surprise import SVD, accuracy\n",
    "algo = SVD()\n",
    "algo.fit(trainset)"
   ]
  },
  {
   "cell_type": "markdown",
   "metadata": {},
   "source": [
    "#### Matrix Factorization based on SVDpp approach"
   ]
  },
  {
   "cell_type": "code",
   "execution_count": 189,
   "metadata": {},
   "outputs": [
    {
     "name": "stdout",
     "output_type": "stream",
     "text": [
      "RMSE: 7.1096\n",
      "MAE:  4.0355\n"
     ]
    },
    {
     "data": {
      "text/plain": [
       "4.035535995751783"
      ]
     },
     "execution_count": 189,
     "metadata": {},
     "output_type": "execute_result"
    }
   ],
   "source": [
    "### Evaluating the SVD(Single Value Decomposition) model from surprise library\n",
    "\n",
    "algo = SVD()\n",
    "\n",
    "### Train the algorithm on trainset and predict the Frequency on testset\n",
    "algo.fit(trainset)\n",
    "predictions = algo.test(testset)\n",
    "\n",
    "### Let us check the RMSE value of SVD \n",
    "\n",
    "accuracy.rmse(predictions)\n",
    "accuracy.mae(predictions)"
   ]
  },
  {
   "cell_type": "code",
   "execution_count": 190,
   "metadata": {},
   "outputs": [
    {
     "name": "stdout",
     "output_type": "stream",
     "text": [
      "Estimating biases using als...\n",
      "RMSE: 6.6644\n",
      "MAE:  2.5732\n"
     ]
    },
    {
     "data": {
      "text/plain": [
       "2.573236105769552"
      ]
     },
     "execution_count": 190,
     "metadata": {},
     "output_type": "execute_result"
    }
   ],
   "source": [
    "### Evaluating the Baselineonly model from surprise library  \n",
    "\n",
    "algo = BaselineOnly()\n",
    "\n",
    "### Train the algorithm on trainset and predict the Frequency on testset\n",
    "algo.fit(trainset)\n",
    "predictions = algo.test(testset)\n",
    "\n",
    "### Let us check the RMSE value of Baselineonly\n",
    "\n",
    "accuracy.rmse(predictions)\n",
    "accuracy.mae(predictions)"
   ]
  },
  {
   "cell_type": "code",
   "execution_count": 191,
   "metadata": {},
   "outputs": [
    {
     "name": "stdout",
     "output_type": "stream",
     "text": [
      "RMSE: 7.1096\n",
      "MAE:  4.0355\n"
     ]
    },
    {
     "data": {
      "text/plain": [
       "4.03551911522511"
      ]
     },
     "execution_count": 191,
     "metadata": {},
     "output_type": "execute_result"
    }
   ],
   "source": [
    "### Evaluating the SVDpp from surprise library\n",
    "algo = SVDpp()\n",
    "\n",
    "### Train the algorithm on trainset and predict the Frequency on testset\n",
    "algo.fit(trainset)\n",
    "predictions = algo.test(testset)\n",
    "\n",
    "### Let us check the RMSE value of SVDpp model\n",
    "\n",
    "accuracy.rmse(predictions)\n",
    "accuracy.mae(predictions)"
   ]
  },
  {
   "cell_type": "markdown",
   "metadata": {},
   "source": [
    "#### Collaborative filtering algorithm based on Non-negative Matrix Factorization."
   ]
  },
  {
   "cell_type": "code",
   "execution_count": 192,
   "metadata": {},
   "outputs": [
    {
     "name": "stdout",
     "output_type": "stream",
     "text": [
      "RMSE: 6.7670\n",
      "MAE:  2.3266\n"
     ]
    },
    {
     "data": {
      "text/plain": [
       "2.3266039924660804"
      ]
     },
     "execution_count": 192,
     "metadata": {},
     "output_type": "execute_result"
    }
   ],
   "source": [
    "### Checking the collaborative based on NMF \n",
    "algo = NMF()\n",
    "\n",
    "# Train the algorithm on the trainset, and predict Frequency for the testset\n",
    "algo.fit(trainset)\n",
    "predictions = algo.test(testset)\n",
    "\n",
    "accuracy.rmse(predictions)\n",
    "accuracy.mae(predictions)"
   ]
  },
  {
   "cell_type": "markdown",
   "metadata": {},
   "source": [
    "#### Comparing the all algorithms on RMSE and MAE and showing there results by plotting a graph"
   ]
  },
  {
   "cell_type": "code",
   "execution_count": 193,
   "metadata": {},
   "outputs": [
    {
     "data": {
      "image/png": "[encoded data removed]",
      "text/plain": [
       "<Figure size 1080x504 with 1 Axes>"
      ]
     },
     "metadata": {
      "needs_background": "light"
     },
     "output_type": "display_data"
    },
    {
     "data": {
      "image/png": "[encoded data removed]",
      "text/plain": [
       "<Figure size 1080x504 with 1 Axes>"
      ]
     },
     "metadata": {
      "needs_background": "light"
     },
     "output_type": "display_data"
    }
   ],
   "source": [
    "x_algo = ['BaselineOnly', 'SVD', 'SVDpp', 'NMF', 'CoClustering']\n",
    "\n",
    "\n",
    "rmse = [6.91,7.34,7.34,7.02,6.93]\n",
    "mae = [2.58,4.04,4.04,2.34,2.39]\n",
    "fit_time = [4.586215, 55.877482,3256.132195,55.372593,19.347667]\n",
    "test_time = [2.908219,2.632710,73.504739,2.918873,2.986175]\n",
    "\n",
    "plt.figure(figsize=(15,7))\n",
    "\n",
    "# plt.subplot(1, 2, 1)\n",
    "plt.title('Comparison of Algorithms on RMSE', loc='center', fontsize=15)\n",
    "plt.plot(x_algo, rmse, label='RMSE', color='darkgreen', marker='o')\n",
    "plt.xlabel('Algorithms', fontsize=15)\n",
    "plt.ylabel('RMSE Value', fontsize=15)\n",
    "plt.legend()\n",
    "plt.grid(ls='dashed')\n",
    "plt.show()\n",
    "\n",
    "# plt.subplot(1, 2, 2)\n",
    "plt.figure(figsize=(15,7))\n",
    "plt.title('Comparison of Algorithms on MAE', loc='center', fontsize=15)\n",
    "plt.plot(x_algo, mae, label='MAE', color='navy', marker='o')\n",
    "plt.xlabel('Algorithms', fontsize=15)\n",
    "plt.ylabel('MAE Value', fontsize=15)\n",
    "plt.legend()\n",
    "plt.grid(ls='dashed')\n",
    "\n",
    "plt.show()"
   ]
  },
  {
   "cell_type": "markdown",
   "metadata": {},
   "source": [
    "#### Comparision of algorithms by on RMSE and MAE and by fit_time and train_time"
   ]
  },
  {
   "cell_type": "code",
   "execution_count": 194,
   "metadata": {},
   "outputs": [
    {
     "data": {
      "image/png": "[encoded data removed]",
      "text/plain": [
       "<Figure size 1080x432 with 1 Axes>"
      ]
     },
     "metadata": {
      "needs_background": "light"
     },
     "output_type": "display_data"
    },
    {
     "data": {
      "image/png": "[encoded data removed]",
      "text/plain": [
       "<Figure size 1080x432 with 1 Axes>"
      ]
     },
     "metadata": {
      "needs_background": "light"
     },
     "output_type": "display_data"
    }
   ],
   "source": [
    "x_algo = ['BaselineOnly','SVD', 'SVDpp', 'NMF','CoClustering']\n",
    "\n",
    "rmse = [6.91,7.34,7.34,7.02,6.93]\n",
    "mae = [2.58,4.04,4.04,2.34,2.39 ]\n",
    "fit_time = [4.586215,55.877482,3256.132195,55.372593,19.347667]   \n",
    "test_time = [2.908219,2.632710,73.504739,2.918873,2.986175]\n",
    "\n",
    "plt.figure(figsize=(15,6))\n",
    "plt.title('Comparison of Algorithms on RMSE and MAE', loc='center', fontsize=15)\n",
    "plt.plot(x_algo, rmse, label='RMSE', color='darkgreen', marker='o')\n",
    "plt.plot(x_algo, mae, label='MAE', color='navy', marker='o')\n",
    "plt.xlabel('Algorithms', fontsize=15)\n",
    "plt.ylabel('Value', fontsize=15)\n",
    "plt.legend()\n",
    "plt.grid(ls='dashed')\n",
    "plt.show()\n",
    "\n",
    "plt.figure(figsize=(15,6))\n",
    "plt.title('Comparison of Algorithms on fit and train time', loc='center', fontsize=15)\n",
    "plt.plot(x_algo, fit_time, label='Fit Time', color='navy', marker='o')\n",
    "plt.plot(x_algo, test_time, label='Test Time', color='red', marker='o')\n",
    "plt.xlabel('Algorithms', fontsize=15)\n",
    "plt.ylabel('Time (s)', fontsize=15)\n",
    "plt.legend()\n",
    "plt.grid(ls='dashed')\n",
    "plt.show()"
   ]
  }
 ],
 "metadata": {
  "kernelspec": {
   "display_name": "Python 3",
   "language": "python",
   "name": "python3"
  },
  "language_info": {
   "codemirror_mode": {
    "name": "ipython",
    "version": 3
   },
   "file_extension": ".py",
   "mimetype": "text/x-python",
   "name": "python",
   "nbconvert_exporter": "python",
   "pygments_lexer": "ipython3",
   "version": "3.8.5"
  }
 },
 "nbformat": 4,
 "nbformat_minor": 2
}
